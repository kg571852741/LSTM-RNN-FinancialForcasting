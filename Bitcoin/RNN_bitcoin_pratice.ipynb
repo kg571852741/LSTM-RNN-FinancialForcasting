{
  "nbformat": 4,
  "nbformat_minor": 0,
  "metadata": {
    "colab": {
      "name": "RNN.bitcoin_pratice",
      "provenance": [],
      "collapsed_sections": []
    },
    "kernelspec": {
      "name": "python3",
      "display_name": "Python 3"
    }
  },
  "cells": [
    {
      "cell_type": "markdown",
      "metadata": {
        "id": "xpAuMVCwfWs8"
      },
      "source": [
        "# Recurrent Neural Network"
      ]
    },
    {
      "cell_type": "markdown",
      "metadata": {
        "id": "nxJfRe4bfYVA"
      },
      "source": [
        "## Part 1 - Data Preprocessing"
      ]
    },
    {
      "cell_type": "markdown",
      "metadata": {
        "id": "ir9zwETrfbrp"
      },
      "source": [
        "### Importing the libraries"
      ]
    },
    {
      "cell_type": "code",
      "metadata": {
        "id": "ZT1f24vHffuf"
      },
      "source": [
        "import numpy as np\n",
        "import matplotlib.pyplot as plt\n",
        "import pandas as pd"
      ],
      "execution_count": null,
      "outputs": []
    },
    {
      "cell_type": "markdown",
      "metadata": {
        "id": "nQ47JAxrgmaL"
      },
      "source": [
        "### Importing the training set"
      ]
    },
    {
      "cell_type": "code",
      "metadata": {
        "id": "1xiv3pJOgqY3",
        "colab": {
          "base_uri": "https://localhost:8080/",
          "height": 423
        },
        "outputId": "47a9f274-8346-439a-91d5-6efd1cf1ee56"
      },
      "source": [
        "dataset_train = pd.read_csv('Bitcoin_price_train.csv')\n",
        "training_set = dataset_train.iloc[:, 1:2].values\n",
        "dataset_train"
      ],
      "execution_count": null,
      "outputs": [
        {
          "output_type": "execute_result",
          "data": {
            "text/html": [
              "<div>\n",
              "<style scoped>\n",
              "    .dataframe tbody tr th:only-of-type {\n",
              "        vertical-align: middle;\n",
              "    }\n",
              "\n",
              "    .dataframe tbody tr th {\n",
              "        vertical-align: top;\n",
              "    }\n",
              "\n",
              "    .dataframe thead th {\n",
              "        text-align: right;\n",
              "    }\n",
              "</style>\n",
              "<table border=\"1\" class=\"dataframe\">\n",
              "  <thead>\n",
              "    <tr style=\"text-align: right;\">\n",
              "      <th></th>\n",
              "      <th>date</th>\n",
              "      <th>close</th>\n",
              "      <th>open</th>\n",
              "      <th>high</th>\n",
              "      <th>low</th>\n",
              "      <th>volune</th>\n",
              "      <th>change</th>\n",
              "    </tr>\n",
              "  </thead>\n",
              "  <tbody>\n",
              "    <tr>\n",
              "      <th>0</th>\n",
              "      <td>2021年7月14日</td>\n",
              "      <td>32820.7</td>\n",
              "      <td>32727.8</td>\n",
              "      <td>33051.9</td>\n",
              "      <td>31611.2</td>\n",
              "      <td>69.56K</td>\n",
              "      <td>0.0028</td>\n",
              "    </tr>\n",
              "    <tr>\n",
              "      <th>1</th>\n",
              "      <td>2021年7月13日</td>\n",
              "      <td>32728.1</td>\n",
              "      <td>33106.1</td>\n",
              "      <td>33307.7</td>\n",
              "      <td>32259.5</td>\n",
              "      <td>60.04K</td>\n",
              "      <td>-0.0116</td>\n",
              "    </tr>\n",
              "    <tr>\n",
              "      <th>2</th>\n",
              "      <td>2021年7月12日</td>\n",
              "      <td>33113.0</td>\n",
              "      <td>34228.3</td>\n",
              "      <td>34598.0</td>\n",
              "      <td>32662.8</td>\n",
              "      <td>63.24K</td>\n",
              "      <td>-0.0326</td>\n",
              "    </tr>\n",
              "    <tr>\n",
              "      <th>3</th>\n",
              "      <td>2021年7月11日</td>\n",
              "      <td>34227.7</td>\n",
              "      <td>33510.8</td>\n",
              "      <td>34580.6</td>\n",
              "      <td>33319.8</td>\n",
              "      <td>35.72K</td>\n",
              "      <td>0.0214</td>\n",
              "    </tr>\n",
              "    <tr>\n",
              "      <th>4</th>\n",
              "      <td>2021年7月10日</td>\n",
              "      <td>33510.6</td>\n",
              "      <td>33797.7</td>\n",
              "      <td>34221.0</td>\n",
              "      <td>33056.8</td>\n",
              "      <td>50.94K</td>\n",
              "      <td>-0.0085</td>\n",
              "    </tr>\n",
              "    <tr>\n",
              "      <th>...</th>\n",
              "      <td>...</td>\n",
              "      <td>...</td>\n",
              "      <td>...</td>\n",
              "      <td>...</td>\n",
              "      <td>...</td>\n",
              "      <td>...</td>\n",
              "      <td>...</td>\n",
              "    </tr>\n",
              "    <tr>\n",
              "      <th>1122</th>\n",
              "      <td>2018年6月18日</td>\n",
              "      <td>6719.8</td>\n",
              "      <td>6460.5</td>\n",
              "      <td>6794.5</td>\n",
              "      <td>6410.9</td>\n",
              "      <td>135.70K</td>\n",
              "      <td>0.0402</td>\n",
              "    </tr>\n",
              "    <tr>\n",
              "      <th>1123</th>\n",
              "      <td>2018年6月17日</td>\n",
              "      <td>6460.3</td>\n",
              "      <td>6505.8</td>\n",
              "      <td>6593.0</td>\n",
              "      <td>6452.1</td>\n",
              "      <td>90.67K</td>\n",
              "      <td>-0.0070</td>\n",
              "    </tr>\n",
              "    <tr>\n",
              "      <th>1124</th>\n",
              "      <td>2018年6月16日</td>\n",
              "      <td>6505.8</td>\n",
              "      <td>6410.0</td>\n",
              "      <td>6564.2</td>\n",
              "      <td>6358.0</td>\n",
              "      <td>108.79K</td>\n",
              "      <td>0.0149</td>\n",
              "    </tr>\n",
              "    <tr>\n",
              "      <th>1125</th>\n",
              "      <td>2018年6月15日</td>\n",
              "      <td>6410.3</td>\n",
              "      <td>6647.3</td>\n",
              "      <td>6655.8</td>\n",
              "      <td>6395.7</td>\n",
              "      <td>143.53K</td>\n",
              "      <td>-0.0356</td>\n",
              "    </tr>\n",
              "    <tr>\n",
              "      <th>1126</th>\n",
              "      <td>2018年6月14日</td>\n",
              "      <td>6647.1</td>\n",
              "      <td>6312.3</td>\n",
              "      <td>6711.5</td>\n",
              "      <td>6283.6</td>\n",
              "      <td>201.54K</td>\n",
              "      <td>0.0530</td>\n",
              "    </tr>\n",
              "  </tbody>\n",
              "</table>\n",
              "<p>1127 rows × 7 columns</p>\n",
              "</div>"
            ],
            "text/plain": [
              "            date    close     open     high      low   volune  change\n",
              "0     2021年7月14日  32820.7  32727.8  33051.9  31611.2   69.56K  0.0028\n",
              "1     2021年7月13日  32728.1  33106.1  33307.7  32259.5   60.04K -0.0116\n",
              "2     2021年7月12日  33113.0  34228.3  34598.0  32662.8   63.24K -0.0326\n",
              "3     2021年7月11日  34227.7  33510.8  34580.6  33319.8   35.72K  0.0214\n",
              "4     2021年7月10日  33510.6  33797.7  34221.0  33056.8   50.94K -0.0085\n",
              "...          ...      ...      ...      ...      ...      ...     ...\n",
              "1122  2018年6月18日   6719.8   6460.5   6794.5   6410.9  135.70K  0.0402\n",
              "1123  2018年6月17日   6460.3   6505.8   6593.0   6452.1   90.67K -0.0070\n",
              "1124  2018年6月16日   6505.8   6410.0   6564.2   6358.0  108.79K  0.0149\n",
              "1125  2018年6月15日   6410.3   6647.3   6655.8   6395.7  143.53K -0.0356\n",
              "1126  2018年6月14日   6647.1   6312.3   6711.5   6283.6  201.54K  0.0530\n",
              "\n",
              "[1127 rows x 7 columns]"
            ]
          },
          "metadata": {
            "tags": []
          },
          "execution_count": 48
        }
      ]
    },
    {
      "cell_type": "markdown",
      "metadata": {
        "id": "HT8_2UJegtG5"
      },
      "source": [
        "### Feature Scaling"
      ]
    },
    {
      "cell_type": "code",
      "metadata": {
        "id": "OTrF2kR7gx9x"
      },
      "source": [
        "from sklearn.preprocessing import MinMaxScaler\n",
        "sc = MinMaxScaler(feature_range = (0, 1))\n",
        "training_set_scaled = sc.fit_transform(training_set)"
      ],
      "execution_count": null,
      "outputs": []
    },
    {
      "cell_type": "markdown",
      "metadata": {
        "id": "JyYgYocqhNUg"
      },
      "source": [
        "### Creating a data structure with 60 timesteps and 1 output"
      ]
    },
    {
      "cell_type": "code",
      "metadata": {
        "id": "iofU21B0i6ST"
      },
      "source": [
        "X_train = []\n",
        "y_train = []\n",
        "for i in range(60, 1127):\n",
        "    X_train.append(training_set_scaled[i-60:i, 0])\n",
        "    y_train.append(training_set_scaled[i, 0])\n",
        "X_train, y_train = np.array(X_train), np.array(y_train)"
      ],
      "execution_count": null,
      "outputs": []
    },
    {
      "cell_type": "markdown",
      "metadata": {
        "id": "D8yaN7Zvi95l"
      },
      "source": [
        "### Reshaping"
      ]
    },
    {
      "cell_type": "code",
      "metadata": {
        "id": "FOXqJHmNjBkz"
      },
      "source": [
        "X_train = np.reshape(X_train, (X_train.shape[0], X_train.shape[1], 1))"
      ],
      "execution_count": null,
      "outputs": []
    },
    {
      "cell_type": "markdown",
      "metadata": {
        "id": "ZRRSOJeVjEWV"
      },
      "source": [
        "## Part 2 - Building and Training the RNN"
      ]
    },
    {
      "cell_type": "markdown",
      "metadata": {
        "id": "k4XV88JMjHXG"
      },
      "source": [
        "### Importing the Keras libraries and packages"
      ]
    },
    {
      "cell_type": "code",
      "metadata": {
        "id": "9JRnqsxEjKsD"
      },
      "source": [
        "from keras.models import Sequential\n",
        "from keras.layers import Dense\n",
        "from keras.layers import LSTM\n",
        "from keras.layers import Dropout"
      ],
      "execution_count": null,
      "outputs": []
    },
    {
      "cell_type": "markdown",
      "metadata": {
        "id": "FEIE-1s9jNzC"
      },
      "source": [
        "### Initialising the RNN"
      ]
    },
    {
      "cell_type": "code",
      "metadata": {
        "id": "1338dJ0UjRKH"
      },
      "source": [
        "regressor = Sequential()"
      ],
      "execution_count": null,
      "outputs": []
    },
    {
      "cell_type": "markdown",
      "metadata": {
        "id": "62eg1OPGjT8z"
      },
      "source": [
        "### Adding the first LSTM layer and some Dropout regularisation"
      ]
    },
    {
      "cell_type": "code",
      "metadata": {
        "id": "2hIinyXUjbVU"
      },
      "source": [
        "regressor.add(LSTM(units = 50, return_sequences = True, input_shape = (X_train.shape[1], 1)))\n",
        "regressor.add(Dropout(0.2))"
      ],
      "execution_count": null,
      "outputs": []
    },
    {
      "cell_type": "markdown",
      "metadata": {
        "id": "3XBIYLyOjlMx"
      },
      "source": [
        "### Adding a second LSTM layer and some Dropout regularisation"
      ]
    },
    {
      "cell_type": "code",
      "metadata": {
        "id": "UG7nrVaSjuZ2"
      },
      "source": [
        "regressor.add(LSTM(units = 50, return_sequences = True))\n",
        "regressor.add(Dropout(0.2))"
      ],
      "execution_count": null,
      "outputs": []
    },
    {
      "cell_type": "markdown",
      "metadata": {
        "id": "Ey3fHVnGj1cu"
      },
      "source": [
        "### Adding a third LSTM layer and some Dropout regularisation"
      ]
    },
    {
      "cell_type": "code",
      "metadata": {
        "id": "PuNi6PgFj7jO"
      },
      "source": [
        "regressor.add(LSTM(units = 50, return_sequences = True))\n",
        "regressor.add(Dropout(0.2))"
      ],
      "execution_count": null,
      "outputs": []
    },
    {
      "cell_type": "markdown",
      "metadata": {
        "id": "SYTrtfTmj933"
      },
      "source": [
        "### Adding a fourth LSTM layer and some Dropout regularisation"
      ]
    },
    {
      "cell_type": "code",
      "metadata": {
        "id": "Jp4Ty8fRkBYV"
      },
      "source": [
        "regressor.add(LSTM(units = 50))\n",
        "regressor.add(Dropout(0.2))"
      ],
      "execution_count": null,
      "outputs": []
    },
    {
      "cell_type": "markdown",
      "metadata": {
        "id": "9ABI6rOIkHhk"
      },
      "source": [
        "### Adding the output layer"
      ]
    },
    {
      "cell_type": "code",
      "metadata": {
        "id": "aM6R1z4WkME8"
      },
      "source": [
        "regressor.add(Dense(units = 1))"
      ],
      "execution_count": null,
      "outputs": []
    },
    {
      "cell_type": "markdown",
      "metadata": {
        "id": "zLx4K7uUkPSh"
      },
      "source": [
        "### Compiling the RNN"
      ]
    },
    {
      "cell_type": "code",
      "metadata": {
        "id": "XTrhVN-tkbko"
      },
      "source": [
        "regressor.compile(optimizer = 'adam', loss = 'mean_squared_error')"
      ],
      "execution_count": null,
      "outputs": []
    },
    {
      "cell_type": "markdown",
      "metadata": {
        "id": "-mPhwKGkkebi"
      },
      "source": [
        "### Fitting the RNN to the Training set"
      ]
    },
    {
      "cell_type": "code",
      "metadata": {
        "id": "I06Nkrz5kkb-",
        "colab": {
          "base_uri": "https://localhost:8080/",
          "height": 1000
        },
        "outputId": "40c2fef9-314a-401e-a33a-6ed6d909cb38"
      },
      "source": [
        "model=regressor.fit(X_train, y_train, epochs = 100 , batch_size = 32)"
      ],
      "execution_count": null,
      "outputs": [
        {
          "output_type": "stream",
          "text": [
            "Epoch 1/100\n",
            "34/34 [==============================] - 4s 106ms/step - loss: 7.0584e-04\n",
            "Epoch 2/100\n",
            "34/34 [==============================] - 4s 104ms/step - loss: 6.1776e-04\n",
            "Epoch 3/100\n",
            "34/34 [==============================] - 4s 104ms/step - loss: 7.0388e-04\n",
            "Epoch 4/100\n",
            "34/34 [==============================] - 4s 107ms/step - loss: 7.1668e-04\n",
            "Epoch 5/100\n",
            "34/34 [==============================] - 4s 104ms/step - loss: 7.5764e-04\n",
            "Epoch 6/100\n",
            "34/34 [==============================] - 4s 104ms/step - loss: 5.5619e-04\n",
            "Epoch 7/100\n",
            "34/34 [==============================] - 4s 105ms/step - loss: 5.9289e-04\n",
            "Epoch 8/100\n",
            "34/34 [==============================] - 4s 104ms/step - loss: 6.1051e-04\n",
            "Epoch 9/100\n",
            "34/34 [==============================] - 4s 105ms/step - loss: 7.6595e-04\n",
            "Epoch 10/100\n",
            "34/34 [==============================] - 4s 106ms/step - loss: 4.7848e-04\n",
            "Epoch 11/100\n",
            "34/34 [==============================] - 4s 104ms/step - loss: 6.2121e-04\n",
            "Epoch 12/100\n",
            "34/34 [==============================] - 4s 105ms/step - loss: 6.1837e-04\n",
            "Epoch 13/100\n",
            "34/34 [==============================] - 4s 104ms/step - loss: 6.6878e-04\n",
            "Epoch 14/100\n",
            "34/34 [==============================] - 4s 103ms/step - loss: 6.0765e-04\n",
            "Epoch 15/100\n",
            "34/34 [==============================] - 4s 106ms/step - loss: 5.9184e-04\n",
            "Epoch 16/100\n",
            "34/34 [==============================] - 4s 105ms/step - loss: 5.5404e-04\n",
            "Epoch 17/100\n",
            "34/34 [==============================] - 4s 105ms/step - loss: 5.3671e-04\n",
            "Epoch 18/100\n",
            "34/34 [==============================] - 4s 105ms/step - loss: 7.6903e-04\n",
            "Epoch 19/100\n",
            "34/34 [==============================] - 4s 105ms/step - loss: 5.3717e-04\n",
            "Epoch 20/100\n",
            "34/34 [==============================] - 4s 104ms/step - loss: 5.8428e-04\n",
            "Epoch 21/100\n",
            "34/34 [==============================] - 4s 106ms/step - loss: 6.3677e-04\n",
            "Epoch 22/100\n",
            "34/34 [==============================] - 4s 104ms/step - loss: 6.8867e-04\n",
            "Epoch 23/100\n",
            "34/34 [==============================] - 4s 103ms/step - loss: 5.8485e-04\n",
            "Epoch 24/100\n",
            "34/34 [==============================] - 4s 105ms/step - loss: 6.2258e-04\n",
            "Epoch 25/100\n",
            "34/34 [==============================] - 4s 104ms/step - loss: 5.4796e-04\n",
            "Epoch 26/100\n",
            "34/34 [==============================] - 4s 104ms/step - loss: 4.9829e-04\n",
            "Epoch 27/100\n",
            "34/34 [==============================] - 4s 105ms/step - loss: 6.5502e-04\n",
            "Epoch 28/100\n",
            "34/34 [==============================] - 4s 104ms/step - loss: 5.7523e-04\n",
            "Epoch 29/100\n",
            "34/34 [==============================] - 4s 103ms/step - loss: 6.4313e-04\n",
            "Epoch 30/100\n",
            "34/34 [==============================] - 4s 104ms/step - loss: 5.9845e-04\n",
            "Epoch 31/100\n",
            "34/34 [==============================] - 4s 105ms/step - loss: 6.6389e-04\n",
            "Epoch 32/100\n",
            "34/34 [==============================] - 4s 105ms/step - loss: 7.2274e-04\n",
            "Epoch 33/100\n",
            "34/34 [==============================] - 4s 104ms/step - loss: 7.0475e-04\n",
            "Epoch 34/100\n",
            "34/34 [==============================] - 4s 104ms/step - loss: 5.9150e-04\n",
            "Epoch 35/100\n",
            "34/34 [==============================] - 4s 105ms/step - loss: 7.4351e-04\n",
            "Epoch 36/100\n",
            "34/34 [==============================] - 4s 105ms/step - loss: 6.7997e-04\n",
            "Epoch 37/100\n",
            "34/34 [==============================] - 4s 105ms/step - loss: 5.5004e-04\n",
            "Epoch 38/100\n",
            "34/34 [==============================] - 4s 105ms/step - loss: 6.4098e-04\n",
            "Epoch 39/100\n",
            "34/34 [==============================] - 4s 104ms/step - loss: 7.4466e-04\n",
            "Epoch 40/100\n",
            "34/34 [==============================] - 4s 103ms/step - loss: 4.9493e-04\n",
            "Epoch 41/100\n",
            "34/34 [==============================] - 4s 104ms/step - loss: 5.8734e-04\n",
            "Epoch 42/100\n",
            "34/34 [==============================] - 4s 104ms/step - loss: 5.5521e-04\n",
            "Epoch 43/100\n",
            "34/34 [==============================] - 4s 104ms/step - loss: 6.0406e-04\n",
            "Epoch 44/100\n",
            "34/34 [==============================] - 4s 104ms/step - loss: 5.7316e-04\n",
            "Epoch 45/100\n",
            "34/34 [==============================] - 4s 106ms/step - loss: 7.2784e-04\n",
            "Epoch 46/100\n",
            "34/34 [==============================] - 4s 106ms/step - loss: 6.1498e-04\n",
            "Epoch 47/100\n",
            "34/34 [==============================] - 4s 106ms/step - loss: 6.9075e-04\n",
            "Epoch 48/100\n",
            "34/34 [==============================] - 4s 106ms/step - loss: 6.8407e-04\n",
            "Epoch 49/100\n",
            "34/34 [==============================] - 4s 105ms/step - loss: 6.6706e-04\n",
            "Epoch 50/100\n",
            "34/34 [==============================] - 4s 107ms/step - loss: 6.3708e-04\n",
            "Epoch 51/100\n",
            "34/34 [==============================] - 4s 107ms/step - loss: 6.5992e-04\n",
            "Epoch 52/100\n",
            "34/34 [==============================] - 4s 107ms/step - loss: 7.3616e-04\n",
            "Epoch 53/100\n",
            "34/34 [==============================] - 4s 106ms/step - loss: 5.8083e-04\n",
            "Epoch 54/100\n",
            "34/34 [==============================] - 4s 106ms/step - loss: 5.5892e-04\n",
            "Epoch 55/100\n",
            "34/34 [==============================] - 4s 106ms/step - loss: 6.7937e-04\n",
            "Epoch 56/100\n",
            "34/34 [==============================] - 4s 106ms/step - loss: 5.7535e-04\n",
            "Epoch 57/100\n",
            "34/34 [==============================] - 4s 105ms/step - loss: 5.8735e-04\n",
            "Epoch 58/100\n",
            "34/34 [==============================] - 4s 104ms/step - loss: 4.9336e-04\n",
            "Epoch 59/100\n",
            "34/34 [==============================] - 4s 106ms/step - loss: 5.8744e-04\n",
            "Epoch 60/100\n",
            "34/34 [==============================] - 4s 106ms/step - loss: 6.3033e-04\n",
            "Epoch 61/100\n",
            "34/34 [==============================] - 4s 105ms/step - loss: 5.0156e-04\n",
            "Epoch 62/100\n",
            "34/34 [==============================] - 4s 105ms/step - loss: 7.1196e-04\n",
            "Epoch 63/100\n",
            "34/34 [==============================] - 4s 106ms/step - loss: 6.1416e-04\n",
            "Epoch 64/100\n",
            "34/34 [==============================] - 4s 104ms/step - loss: 6.7331e-04\n",
            "Epoch 65/100\n",
            "34/34 [==============================] - 4s 106ms/step - loss: 5.9295e-04\n",
            "Epoch 66/100\n",
            "34/34 [==============================] - 4s 104ms/step - loss: 5.8472e-04\n",
            "Epoch 67/100\n",
            "34/34 [==============================] - 4s 103ms/step - loss: 5.3173e-04\n",
            "Epoch 68/100\n",
            "34/34 [==============================] - 3s 102ms/step - loss: 7.3862e-04\n",
            "Epoch 69/100\n",
            "34/34 [==============================] - 4s 104ms/step - loss: 7.9673e-04\n",
            "Epoch 70/100\n",
            "34/34 [==============================] - 4s 104ms/step - loss: 7.3590e-04\n",
            "Epoch 71/100\n",
            "34/34 [==============================] - 4s 105ms/step - loss: 6.8700e-04\n",
            "Epoch 72/100\n",
            "34/34 [==============================] - 4s 105ms/step - loss: 6.2402e-04\n",
            "Epoch 73/100\n",
            "34/34 [==============================] - 4s 105ms/step - loss: 5.1671e-04\n",
            "Epoch 74/100\n",
            "34/34 [==============================] - 4s 105ms/step - loss: 5.4585e-04\n",
            "Epoch 75/100\n",
            "34/34 [==============================] - 4s 106ms/step - loss: 5.9350e-04\n",
            "Epoch 76/100\n",
            "34/34 [==============================] - 4s 104ms/step - loss: 5.0383e-04\n",
            "Epoch 77/100\n",
            "34/34 [==============================] - 4s 106ms/step - loss: 5.4809e-04\n",
            "Epoch 78/100\n",
            "34/34 [==============================] - 4s 105ms/step - loss: 5.8261e-04\n",
            "Epoch 79/100\n",
            "34/34 [==============================] - 4s 103ms/step - loss: 5.8441e-04\n",
            "Epoch 80/100\n",
            "34/34 [==============================] - 4s 107ms/step - loss: 5.8114e-04\n",
            "Epoch 81/100\n",
            "34/34 [==============================] - 4s 104ms/step - loss: 7.7340e-04\n",
            "Epoch 82/100\n",
            "34/34 [==============================] - 4s 105ms/step - loss: 6.6416e-04\n",
            "Epoch 83/100\n",
            "34/34 [==============================] - 4s 105ms/step - loss: 6.7656e-04\n",
            "Epoch 84/100\n",
            "34/34 [==============================] - 4s 105ms/step - loss: 7.0303e-04\n",
            "Epoch 85/100\n",
            "34/34 [==============================] - 4s 105ms/step - loss: 6.0889e-04\n",
            "Epoch 86/100\n",
            "34/34 [==============================] - 4s 105ms/step - loss: 5.8429e-04\n",
            "Epoch 87/100\n",
            "34/34 [==============================] - 4s 105ms/step - loss: 5.9683e-04\n",
            "Epoch 88/100\n",
            "34/34 [==============================] - 4s 106ms/step - loss: 5.5852e-04\n",
            "Epoch 89/100\n",
            "34/34 [==============================] - 4s 104ms/step - loss: 5.8036e-04\n",
            "Epoch 90/100\n",
            "34/34 [==============================] - 4s 105ms/step - loss: 7.4485e-04\n",
            "Epoch 91/100\n",
            "34/34 [==============================] - 4s 104ms/step - loss: 5.9197e-04\n",
            "Epoch 92/100\n",
            "34/34 [==============================] - 4s 105ms/step - loss: 5.5477e-04\n",
            "Epoch 93/100\n",
            "34/34 [==============================] - 4s 104ms/step - loss: 5.0557e-04\n",
            "Epoch 94/100\n",
            "34/34 [==============================] - 4s 104ms/step - loss: 5.5701e-04\n",
            "Epoch 95/100\n",
            "34/34 [==============================] - 4s 106ms/step - loss: 5.2961e-04\n",
            "Epoch 96/100\n",
            "34/34 [==============================] - 4s 106ms/step - loss: 5.9400e-04\n",
            "Epoch 97/100\n",
            "34/34 [==============================] - 4s 104ms/step - loss: 6.1521e-04\n",
            "Epoch 98/100\n",
            "34/34 [==============================] - 4s 105ms/step - loss: 5.6916e-04\n",
            "Epoch 99/100\n",
            "34/34 [==============================] - 4s 105ms/step - loss: 6.0520e-04\n",
            "Epoch 100/100\n",
            "34/34 [==============================] - 4s 106ms/step - loss: 5.9293e-04\n"
          ],
          "name": "stdout"
        },
        {
          "output_type": "error",
          "ename": "ValueError",
          "evalue": "ignored",
          "traceback": [
            "\u001b[0;31m---------------------------------------------------------------------------\u001b[0m",
            "\u001b[0;31mValueError\u001b[0m                                Traceback (most recent call last)",
            "\u001b[0;32m<ipython-input-67-1bbed1c122cc>\u001b[0m in \u001b[0;36m<module>\u001b[0;34m()\u001b[0m\n\u001b[1;32m      2\u001b[0m \u001b[0;34m\u001b[0m\u001b[0m\n\u001b[1;32m      3\u001b[0m \u001b[0;32mimport\u001b[0m \u001b[0mtimeit\u001b[0m\u001b[0;34m\u001b[0m\u001b[0;34m\u001b[0m\u001b[0m\n\u001b[0;32m----> 4\u001b[0;31m \u001b[0mexecution_time\u001b[0m \u001b[0;34m=\u001b[0m \u001b[0mtimeit\u001b[0m\u001b[0;34m.\u001b[0m\u001b[0mtimeit\u001b[0m\u001b[0;34m(\u001b[0m\u001b[0mfitting_start\u001b[0m\u001b[0;34m,\u001b[0m \u001b[0mnumber\u001b[0m\u001b[0;34m=\u001b[0m\u001b[0;36m1\u001b[0m\u001b[0;34m)\u001b[0m\u001b[0;34m\u001b[0m\u001b[0;34m\u001b[0m\u001b[0m\n\u001b[0m\u001b[1;32m      5\u001b[0m \u001b[0mprint\u001b[0m\u001b[0;34m(\u001b[0m\u001b[0mexecution_time\u001b[0m\u001b[0;34m)\u001b[0m\u001b[0;34m\u001b[0m\u001b[0;34m\u001b[0m\u001b[0m\n",
            "\u001b[0;32m/usr/lib/python3.7/timeit.py\u001b[0m in \u001b[0;36mtimeit\u001b[0;34m(stmt, setup, timer, number, globals)\u001b[0m\n\u001b[1;32m    231\u001b[0m            number=default_number, globals=None):\n\u001b[1;32m    232\u001b[0m     \u001b[0;34m\"\"\"Convenience function to create Timer object and call timeit method.\"\"\"\u001b[0m\u001b[0;34m\u001b[0m\u001b[0;34m\u001b[0m\u001b[0m\n\u001b[0;32m--> 233\u001b[0;31m     \u001b[0;32mreturn\u001b[0m \u001b[0mTimer\u001b[0m\u001b[0;34m(\u001b[0m\u001b[0mstmt\u001b[0m\u001b[0;34m,\u001b[0m \u001b[0msetup\u001b[0m\u001b[0;34m,\u001b[0m \u001b[0mtimer\u001b[0m\u001b[0;34m,\u001b[0m \u001b[0mglobals\u001b[0m\u001b[0;34m)\u001b[0m\u001b[0;34m.\u001b[0m\u001b[0mtimeit\u001b[0m\u001b[0;34m(\u001b[0m\u001b[0mnumber\u001b[0m\u001b[0;34m)\u001b[0m\u001b[0;34m\u001b[0m\u001b[0;34m\u001b[0m\u001b[0m\n\u001b[0m\u001b[1;32m    234\u001b[0m \u001b[0;34m\u001b[0m\u001b[0m\n\u001b[1;32m    235\u001b[0m def repeat(stmt=\"pass\", setup=\"pass\", timer=default_timer,\n",
            "\u001b[0;32m/usr/lib/python3.7/timeit.py\u001b[0m in \u001b[0;36m__init__\u001b[0;34m(self, stmt, setup, timer, globals)\u001b[0m\n\u001b[1;32m    127\u001b[0m             \u001b[0mstmt\u001b[0m \u001b[0;34m=\u001b[0m \u001b[0;34m'_stmt()'\u001b[0m\u001b[0;34m\u001b[0m\u001b[0;34m\u001b[0m\u001b[0m\n\u001b[1;32m    128\u001b[0m         \u001b[0;32melse\u001b[0m\u001b[0;34m:\u001b[0m\u001b[0;34m\u001b[0m\u001b[0;34m\u001b[0m\u001b[0m\n\u001b[0;32m--> 129\u001b[0;31m             \u001b[0;32mraise\u001b[0m \u001b[0mValueError\u001b[0m\u001b[0;34m(\u001b[0m\u001b[0;34m\"stmt is neither a string nor callable\"\u001b[0m\u001b[0;34m)\u001b[0m\u001b[0;34m\u001b[0m\u001b[0;34m\u001b[0m\u001b[0m\n\u001b[0m\u001b[1;32m    130\u001b[0m         \u001b[0msrc\u001b[0m \u001b[0;34m=\u001b[0m \u001b[0mtemplate\u001b[0m\u001b[0;34m.\u001b[0m\u001b[0mformat\u001b[0m\u001b[0;34m(\u001b[0m\u001b[0mstmt\u001b[0m\u001b[0;34m=\u001b[0m\u001b[0mstmt\u001b[0m\u001b[0;34m,\u001b[0m \u001b[0msetup\u001b[0m\u001b[0;34m=\u001b[0m\u001b[0msetup\u001b[0m\u001b[0;34m,\u001b[0m \u001b[0minit\u001b[0m\u001b[0;34m=\u001b[0m\u001b[0minit\u001b[0m\u001b[0;34m)\u001b[0m\u001b[0;34m\u001b[0m\u001b[0;34m\u001b[0m\u001b[0m\n\u001b[1;32m    131\u001b[0m         \u001b[0mself\u001b[0m\u001b[0;34m.\u001b[0m\u001b[0msrc\u001b[0m \u001b[0;34m=\u001b[0m \u001b[0msrc\u001b[0m  \u001b[0;31m# Save for traceback display\u001b[0m\u001b[0;34m\u001b[0m\u001b[0;34m\u001b[0m\u001b[0m\n",
            "\u001b[0;31mValueError\u001b[0m: stmt is neither a string nor callable"
          ]
        }
      ]
    },
    {
      "cell_type": "code",
      "metadata": {
        "colab": {
          "base_uri": "https://localhost:8080/",
          "height": 185
        },
        "id": "iNlntfkEZSLY",
        "outputId": "31e51f31-3180-4e86-f178-62b6155be603"
      },
      "source": [
        "model = ...  # Get model (Sequential, Functional Model, or Model subclass)\n",
        "el.save('path/to/location')"
      ],
      "execution_count": 6,
      "outputs": [
        {
          "output_type": "error",
          "ename": "AttributeError",
          "evalue": "ignored",
          "traceback": [
            "\u001b[0;31m---------------------------------------------------------------------------\u001b[0m",
            "\u001b[0;31mAttributeError\u001b[0m                            Traceback (most recent call last)",
            "\u001b[0;32m<ipython-input-6-7bfe9336d65d>\u001b[0m in \u001b[0;36m<module>\u001b[0;34m()\u001b[0m\n\u001b[1;32m      1\u001b[0m \u001b[0mmodel\u001b[0m \u001b[0;34m=\u001b[0m \u001b[0;34m...\u001b[0m  \u001b[0;31m# Get model (Sequential, Functional Model, or Model subclass)\u001b[0m\u001b[0;34m\u001b[0m\u001b[0;34m\u001b[0m\u001b[0m\n\u001b[0;32m----> 2\u001b[0;31m \u001b[0mmodel\u001b[0m\u001b[0;34m.\u001b[0m\u001b[0msave\u001b[0m\u001b[0;34m(\u001b[0m\u001b[0;34m'\\kalun\\Google Drive\\RNN pratice'\u001b[0m\u001b[0;34m)\u001b[0m\u001b[0;34m\u001b[0m\u001b[0;34m\u001b[0m\u001b[0m\n\u001b[0m",
            "\u001b[0;31mAttributeError\u001b[0m: 'ellipsis' object has no attribute 'save'"
          ]
        }
      ]
    },
    {
      "cell_type": "code",
      "metadata": {
        "colab": {
          "base_uri": "https://localhost:8080/",
          "height": 167
        },
        "id": "jMaotCGZdu46",
        "outputId": "b0502d37-38a0-495d-b8b6-13b5bc6684ff"
      },
      "source": [
        "model.summary()"
      ],
      "execution_count": 8,
      "outputs": [
        {
          "output_type": "error",
          "ename": "AttributeError",
          "evalue": "ignored",
          "traceback": [
            "\u001b[0;31m---------------------------------------------------------------------------\u001b[0m",
            "\u001b[0;31mAttributeError\u001b[0m                            Traceback (most recent call last)",
            "\u001b[0;32m<ipython-input-8-716b8a5b5f28>\u001b[0m in \u001b[0;36m<module>\u001b[0;34m()\u001b[0m\n\u001b[0;32m----> 1\u001b[0;31m \u001b[0mmodel\u001b[0m\u001b[0;34m.\u001b[0m\u001b[0msumary\u001b[0m\u001b[0;34m(\u001b[0m\u001b[0;34m)\u001b[0m\u001b[0;34m\u001b[0m\u001b[0;34m\u001b[0m\u001b[0m\n\u001b[0m",
            "\u001b[0;31mAttributeError\u001b[0m: 'ellipsis' object has no attribute 'sumary'"
          ]
        }
      ]
    },
    {
      "cell_type": "markdown",
      "metadata": {
        "id": "4hRau_lIkrE8"
      },
      "source": [
        "## Part 3 - Making the predictions and visualising the results"
      ]
    },
    {
      "cell_type": "markdown",
      "metadata": {
        "id": "SgJO6qEDksxD"
      },
      "source": [
        "### Getting the real  price of 2018-2021\n",
        "\n",
        "\n"
      ]
    },
    {
      "cell_type": "code",
      "metadata": {
        "id": "FmBT2zqukxTz",
        "colab": {
          "base_uri": "https://localhost:8080/"
        },
        "outputId": "820aba34-80b6-4a0c-a520-868376c3fede"
      },
      "source": [
        "dataset_test = pd.read_excel('Bitcoin_price_test.xlsx')\n",
        "real__price= dataset_test.iloc[:, 1:2].values\n",
        "real__price"
      ],
      "execution_count": null,
      "outputs": [
        {
          "output_type": "execute_result",
          "data": {
            "text/plain": [
              "array([[6598.4],\n",
              "       [6513.5],\n",
              "       [6619.5],\n",
              "       [6366.8],\n",
              "       [6398.9],\n",
              "       [6213.3],\n",
              "       [5883.5],\n",
              "       [6154.9],\n",
              "       [6082.1],\n",
              "       [6256.6],\n",
              "       [6154.6],\n",
              "       [6167.3],\n",
              "       [6055.7],\n",
              "       [6728. ],\n",
              "       [6765.4],\n",
              "       [6752.4],\n",
              "       [6719.8],\n",
              "       [6460.3],\n",
              "       [6505.8],\n",
              "       [6410.3],\n",
              "       [6647.1]])"
            ]
          },
          "metadata": {
            "tags": []
          },
          "execution_count": 76
        }
      ]
    },
    {
      "cell_type": "markdown",
      "metadata": {
        "id": "GrvrLblxkz42"
      },
      "source": [
        "### Getting the predicted  price of 2021\n"
      ]
    },
    {
      "cell_type": "code",
      "metadata": {
        "id": "emikTvUpk3Ck"
      },
      "source": [
        "dataset_total = pd.concat((dataset_train['close'], dataset_test['close']), axis = 0)\n",
        "inputs = dataset_total[len(dataset_total) - len(dataset_test) - 60:].values\n",
        "inputs = inputs.reshape(-1,1)\n",
        "inputs = sc.transform(inputs)\n",
        "X_test = []\n",
        "for i in range(60, 82):\n",
        "    X_test.append(inputs[i-60:i, 0])\n",
        "X_test = np.array(X_test)\n",
        "X_test = np.reshape(X_test, (X_test.shape[0], X_test.shape[1], 1))\n",
        "predicted__price = regressor.predict(X_test)\n",
        "predicted__price = sc.inverse_transform(predicted__price)"
      ],
      "execution_count": null,
      "outputs": []
    },
    {
      "cell_type": "markdown",
      "metadata": {
        "id": "iFTNs3YHk6FQ"
      },
      "source": [
        "### Visualising the results"
      ]
    },
    {
      "cell_type": "code",
      "metadata": {
        "id": "8OUI8U49k9tH",
        "colab": {
          "base_uri": "https://localhost:8080/",
          "height": 295
        },
        "outputId": "d76555b7-5c2c-4d69-c5ba-978cb96dd0e8"
      },
      "source": [
        "plt.plot(real__price, color = 'red', label = 'test Bitcoin Price')\n",
        "plt.plot(predicted__price, color = 'blue', label = 'Predicted Bitcoin Price')\n",
        "plt.title('Bitcoin Price Prediction')\n",
        "plt.xlabel('Time')\n",
        "plt.ylabel('Bitcoin Price')\n",
        "plt.legend()\n",
        "plt.show()"
      ],
      "execution_count": null,
      "outputs": [
        {
          "output_type": "display_data",
          "data": {
            "image/png": "[encoded data removed]",
            "text/plain": [
              "<Figure size 432x288 with 1 Axes>"
            ]
          },
          "metadata": {
            "tags": [],
            "needs_background": "light"
          }
        }
      ]
    },
    {
      "cell_type": "markdown",
      "metadata": {
        "id": "aN8ShtuV_yXn"
      },
      "source": [
        "Saving model"
      ]
    },
    {
      "cell_type": "code",
      "metadata": {
        "colab": {
          "base_uri": "https://localhost:8080/",
          "height": 132
        },
        "id": "hxeePlZE_1VY",
        "outputId": "1cefa46a-8a70-4ed6-86f5-11bc300fbd65"
      },
      "source": [
        "# Calling `save('my_model')` creates a SavedModel folder `my_model`.\n",
        "def get_model():\n",
        "\n",
        "model.save(\"my_model\")"
      ],
      "execution_count": null,
      "outputs": [
        {
          "output_type": "error",
          "ename": "IndentationError",
          "evalue": "ignored",
          "traceback": [
            "\u001b[0;36m  File \u001b[0;32m\"<ipython-input-83-a942f26cb034>\"\u001b[0;36m, line \u001b[0;32m4\u001b[0m\n\u001b[0;31m    model.save(\"my_model\")\u001b[0m\n\u001b[0m        ^\u001b[0m\n\u001b[0;31mIndentationError\u001b[0m\u001b[0;31m:\u001b[0m expected an indented block\n"
          ]
        }
      ]
    }
  ]
}