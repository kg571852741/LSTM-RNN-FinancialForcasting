{
  "nbformat": 4,
  "nbformat_minor": 0,
  "metadata": {
    "colab": {
      "name": "RNN.bitcoin_pratice",
      "provenance": [],
      "collapsed_sections": [],
      "include_colab_link": true
    },
    "kernelspec": {
      "display_name": "Python 3",
      "name": "python3"
    }
  },
  "cells": [
    {
      "cell_type": "markdown",
      "metadata": {
        "id": "view-in-github",
        "colab_type": "text"
      },
      "source": [
        "<a href=\"https://colab.research.google.com/github/kg571852741/LSTM-RNN-FinancialForcasting/blob/main/RNN_bitcoin_pratice.ipynb\" target=\"_parent\"><img src=\"https://colab.research.google.com/assets/colab-badge.svg\" alt=\"Open In Colab\"/></a>"
      ]
    },
    {
      "cell_type": "markdown",
      "metadata": {
        "id": "xpAuMVCwfWs8"
      },
      "source": [
        "# Recurrent Neural Network"
      ]
    },
    {
      "cell_type": "markdown",
      "metadata": {
        "id": "nxJfRe4bfYVA"
      },
      "source": [
        "## Part 1 - Data Preprocessing"
      ]
    },
    {
      "cell_type": "markdown",
      "metadata": {
        "id": "ir9zwETrfbrp"
      },
      "source": [
        "### Importing the libraries"
      ]
    },
    {
      "cell_type": "code",
      "metadata": {
        "id": "ZT1f24vHffuf"
      },
      "source": [
        "import numpy as np\n",
        "import matplotlib.pyplot as plt\n",
        "import pandas as pd"
      ],
      "execution_count": null,
      "outputs": []
    },
    {
      "cell_type": "markdown",
      "metadata": {
        "id": "nQ47JAxrgmaL"
      },
      "source": [
        "### Importing the training set"
      ]
    },
    {
      "cell_type": "code",
      "metadata": {
        "colab": {
          "base_uri": "https://localhost:8080/",
          "height": 423
        },
        "id": "1xiv3pJOgqY3",
        "outputId": "af7fe695-dda3-4075-cb42-4d0bd5ea61bb"
      },
      "source": [
        "dataset_train = pd.read_csv('Bitcoin_price_train.csv')\n",
        "training_set = dataset_train.iloc[:, 1:2].values\n",
        "dataset_train"
      ],
      "execution_count": null,
      "outputs": [
        {
          "output_type": "execute_result",
          "data": {
            "text/html": [
              "<div>\n",
              "<style scoped>\n",
              "    .dataframe tbody tr th:only-of-type {\n",
              "        vertical-align: middle;\n",
              "    }\n",
              "\n",
              "    .dataframe tbody tr th {\n",
              "        vertical-align: top;\n",
              "    }\n",
              "\n",
              "    .dataframe thead th {\n",
              "        text-align: right;\n",
              "    }\n",
              "</style>\n",
              "<table border=\"1\" class=\"dataframe\">\n",
              "  <thead>\n",
              "    <tr style=\"text-align: right;\">\n",
              "      <th></th>\n",
              "      <th>date</th>\n",
              "      <th>close</th>\n",
              "      <th>open</th>\n",
              "      <th>high</th>\n",
              "      <th>low</th>\n",
              "      <th>volune</th>\n",
              "      <th>change</th>\n",
              "    </tr>\n",
              "  </thead>\n",
              "  <tbody>\n",
              "    <tr>\n",
              "      <th>0</th>\n",
              "      <td>2021年7月14日</td>\n",
              "      <td>32820.7</td>\n",
              "      <td>32727.8</td>\n",
              "      <td>33051.9</td>\n",
              "      <td>31611.2</td>\n",
              "      <td>69.56K</td>\n",
              "      <td>0.0028</td>\n",
              "    </tr>\n",
              "    <tr>\n",
              "      <th>1</th>\n",
              "      <td>2021年7月13日</td>\n",
              "      <td>32728.1</td>\n",
              "      <td>33106.1</td>\n",
              "      <td>33307.7</td>\n",
              "      <td>32259.5</td>\n",
              "      <td>60.04K</td>\n",
              "      <td>-0.0116</td>\n",
              "    </tr>\n",
              "    <tr>\n",
              "      <th>2</th>\n",
              "      <td>2021年7月12日</td>\n",
              "      <td>33113.0</td>\n",
              "      <td>34228.3</td>\n",
              "      <td>34598.0</td>\n",
              "      <td>32662.8</td>\n",
              "      <td>63.24K</td>\n",
              "      <td>-0.0326</td>\n",
              "    </tr>\n",
              "    <tr>\n",
              "      <th>3</th>\n",
              "      <td>2021年7月11日</td>\n",
              "      <td>34227.7</td>\n",
              "      <td>33510.8</td>\n",
              "      <td>34580.6</td>\n",
              "      <td>33319.8</td>\n",
              "      <td>35.72K</td>\n",
              "      <td>0.0214</td>\n",
              "    </tr>\n",
              "    <tr>\n",
              "      <th>4</th>\n",
              "      <td>2021年7月10日</td>\n",
              "      <td>33510.6</td>\n",
              "      <td>33797.7</td>\n",
              "      <td>34221.0</td>\n",
              "      <td>33056.8</td>\n",
              "      <td>50.94K</td>\n",
              "      <td>-0.0085</td>\n",
              "    </tr>\n",
              "    <tr>\n",
              "      <th>...</th>\n",
              "      <td>...</td>\n",
              "      <td>...</td>\n",
              "      <td>...</td>\n",
              "      <td>...</td>\n",
              "      <td>...</td>\n",
              "      <td>...</td>\n",
              "      <td>...</td>\n",
              "    </tr>\n",
              "    <tr>\n",
              "      <th>1122</th>\n",
              "      <td>2018年6月18日</td>\n",
              "      <td>6719.8</td>\n",
              "      <td>6460.5</td>\n",
              "      <td>6794.5</td>\n",
              "      <td>6410.9</td>\n",
              "      <td>135.70K</td>\n",
              "      <td>0.0402</td>\n",
              "    </tr>\n",
              "    <tr>\n",
              "      <th>1123</th>\n",
              "      <td>2018年6月17日</td>\n",
              "      <td>6460.3</td>\n",
              "      <td>6505.8</td>\n",
              "      <td>6593.0</td>\n",
              "      <td>6452.1</td>\n",
              "      <td>90.67K</td>\n",
              "      <td>-0.0070</td>\n",
              "    </tr>\n",
              "    <tr>\n",
              "      <th>1124</th>\n",
              "      <td>2018年6月16日</td>\n",
              "      <td>6505.8</td>\n",
              "      <td>6410.0</td>\n",
              "      <td>6564.2</td>\n",
              "      <td>6358.0</td>\n",
              "      <td>108.79K</td>\n",
              "      <td>0.0149</td>\n",
              "    </tr>\n",
              "    <tr>\n",
              "      <th>1125</th>\n",
              "      <td>2018年6月15日</td>\n",
              "      <td>6410.3</td>\n",
              "      <td>6647.3</td>\n",
              "      <td>6655.8</td>\n",
              "      <td>6395.7</td>\n",
              "      <td>143.53K</td>\n",
              "      <td>-0.0356</td>\n",
              "    </tr>\n",
              "    <tr>\n",
              "      <th>1126</th>\n",
              "      <td>2018年6月14日</td>\n",
              "      <td>6647.1</td>\n",
              "      <td>6312.3</td>\n",
              "      <td>6711.5</td>\n",
              "      <td>6283.6</td>\n",
              "      <td>201.54K</td>\n",
              "      <td>0.0530</td>\n",
              "    </tr>\n",
              "  </tbody>\n",
              "</table>\n",
              "<p>1127 rows × 7 columns</p>\n",
              "</div>"
            ],
            "text/plain": [
              "            date    close     open     high      low   volune  change\n",
              "0     2021年7月14日  32820.7  32727.8  33051.9  31611.2   69.56K  0.0028\n",
              "1     2021年7月13日  32728.1  33106.1  33307.7  32259.5   60.04K -0.0116\n",
              "2     2021年7月12日  33113.0  34228.3  34598.0  32662.8   63.24K -0.0326\n",
              "3     2021年7月11日  34227.7  33510.8  34580.6  33319.8   35.72K  0.0214\n",
              "4     2021年7月10日  33510.6  33797.7  34221.0  33056.8   50.94K -0.0085\n",
              "...          ...      ...      ...      ...      ...      ...     ...\n",
              "1122  2018年6月18日   6719.8   6460.5   6794.5   6410.9  135.70K  0.0402\n",
              "1123  2018年6月17日   6460.3   6505.8   6593.0   6452.1   90.67K -0.0070\n",
              "1124  2018年6月16日   6505.8   6410.0   6564.2   6358.0  108.79K  0.0149\n",
              "1125  2018年6月15日   6410.3   6647.3   6655.8   6395.7  143.53K -0.0356\n",
              "1126  2018年6月14日   6647.1   6312.3   6711.5   6283.6  201.54K  0.0530\n",
              "\n",
              "[1127 rows x 7 columns]"
            ]
          },
          "metadata": {
            "tags": []
          },
          "execution_count": 97
        }
      ]
    },
    {
      "cell_type": "markdown",
      "metadata": {
        "id": "HT8_2UJegtG5"
      },
      "source": [
        "### Feature Scaling"
      ]
    },
    {
      "cell_type": "code",
      "metadata": {
        "id": "OTrF2kR7gx9x"
      },
      "source": [
        "from sklearn.preprocessing import MinMaxScaler\n",
        "sc = MinMaxScaler(feature_range = (0, 1))\n",
        "training_set_scaled = sc.fit_transform(training_set)"
      ],
      "execution_count": null,
      "outputs": []
    },
    {
      "cell_type": "markdown",
      "metadata": {
        "id": "JyYgYocqhNUg"
      },
      "source": [
        "### Creating a data structure with 60 timesteps and 1 output"
      ]
    },
    {
      "cell_type": "code",
      "metadata": {
        "id": "iofU21B0i6ST"
      },
      "source": [
        "X_train = []\n",
        "y_train = []\n",
        "for i in range(60, 1127):\n",
        "    X_train.append(training_set_scaled[i-60:i, 0])\n",
        "    y_train.append(training_set_scaled[i, 0])\n",
        "X_train, y_train = np.array(X_train), np.array(y_train)"
      ],
      "execution_count": null,
      "outputs": []
    },
    {
      "cell_type": "markdown",
      "metadata": {
        "id": "D8yaN7Zvi95l"
      },
      "source": [
        "### Reshaping"
      ]
    },
    {
      "cell_type": "code",
      "metadata": {
        "id": "FOXqJHmNjBkz"
      },
      "source": [
        "X_train = np.reshape(X_train, (X_train.shape[0], X_train.shape[1], 1))"
      ],
      "execution_count": null,
      "outputs": []
    },
    {
      "cell_type": "markdown",
      "metadata": {
        "id": "ZRRSOJeVjEWV"
      },
      "source": [
        "## Part 2 - Building and Training the RNN"
      ]
    },
    {
      "cell_type": "markdown",
      "metadata": {
        "id": "k4XV88JMjHXG"
      },
      "source": [
        "### Importing the Keras libraries and packages"
      ]
    },
    {
      "cell_type": "code",
      "metadata": {
        "id": "9JRnqsxEjKsD"
      },
      "source": [
        "from keras.models import Sequential\n",
        "from keras.layers import Dense\n",
        "from keras.layers import LSTM\n",
        "from keras.layers import Dropout"
      ],
      "execution_count": null,
      "outputs": []
    },
    {
      "cell_type": "markdown",
      "metadata": {
        "id": "FEIE-1s9jNzC"
      },
      "source": [
        "### Initialising the RNN"
      ]
    },
    {
      "cell_type": "code",
      "metadata": {
        "id": "1338dJ0UjRKH"
      },
      "source": [
        "regressor = Sequential()"
      ],
      "execution_count": null,
      "outputs": []
    },
    {
      "cell_type": "markdown",
      "metadata": {
        "id": "62eg1OPGjT8z"
      },
      "source": [
        "### Adding the first LSTM layer and some Dropout regularisation"
      ]
    },
    {
      "cell_type": "code",
      "metadata": {
        "id": "2hIinyXUjbVU"
      },
      "source": [
        "regressor.add(LSTM(units = 50, return_sequences = True, input_shape = (X_train.shape[1], 1)))\n",
        "regressor.add(Dropout(0.2))"
      ],
      "execution_count": null,
      "outputs": []
    },
    {
      "cell_type": "markdown",
      "metadata": {
        "id": "3XBIYLyOjlMx"
      },
      "source": [
        "### Adding a second LSTM layer and some Dropout regularisation"
      ]
    },
    {
      "cell_type": "code",
      "metadata": {
        "id": "UG7nrVaSjuZ2"
      },
      "source": [
        "regressor.add(LSTM(units = 50, return_sequences = True))\n",
        "regressor.add(Dropout(0.2))"
      ],
      "execution_count": null,
      "outputs": []
    },
    {
      "cell_type": "markdown",
      "metadata": {
        "id": "Ey3fHVnGj1cu"
      },
      "source": [
        "### Adding a third LSTM layer and some Dropout regularisation"
      ]
    },
    {
      "cell_type": "code",
      "metadata": {
        "id": "PuNi6PgFj7jO"
      },
      "source": [
        "regressor.add(LSTM(units = 50, return_sequences = True))\n",
        "regressor.add(Dropout(0.2))"
      ],
      "execution_count": null,
      "outputs": []
    },
    {
      "cell_type": "markdown",
      "metadata": {
        "id": "SYTrtfTmj933"
      },
      "source": [
        "### Adding a fourth LSTM layer and some Dropout regularisation"
      ]
    },
    {
      "cell_type": "code",
      "metadata": {
        "id": "Jp4Ty8fRkBYV"
      },
      "source": [
        "regressor.add(LSTM(units = 50))\n",
        "regressor.add(Dropout(0.2))"
      ],
      "execution_count": null,
      "outputs": []
    },
    {
      "cell_type": "markdown",
      "metadata": {
        "id": "9ABI6rOIkHhk"
      },
      "source": [
        "### Adding the output layer"
      ]
    },
    {
      "cell_type": "code",
      "metadata": {
        "id": "aM6R1z4WkME8"
      },
      "source": [
        "regressor.add(Dense(units = 1))"
      ],
      "execution_count": null,
      "outputs": []
    },
    {
      "cell_type": "markdown",
      "metadata": {
        "id": "zLx4K7uUkPSh"
      },
      "source": [
        "### Compiling the RNN"
      ]
    },
    {
      "cell_type": "code",
      "metadata": {
        "id": "XTrhVN-tkbko"
      },
      "source": [
        "regressor.compile(optimizer = 'adam', loss = 'mean_squared_error')"
      ],
      "execution_count": null,
      "outputs": []
    },
    {
      "cell_type": "markdown",
      "metadata": {
        "id": "-mPhwKGkkebi"
      },
      "source": [
        "### Fitting the RNN to the Training set"
      ]
    },
    {
      "cell_type": "code",
      "metadata": {
        "colab": {
          "base_uri": "https://localhost:8080/"
        },
        "id": "I06Nkrz5kkb-",
        "outputId": "7a2c1f69-d3b8-47c0-e335-135656c320da"
      },
      "source": [
        "regressor.fit(X_train, y_train, epochs = 100 , batch_size = 32)"
      ],
      "execution_count": null,
      "outputs": [
        {
          "output_type": "stream",
          "text": [
            "Epoch 1/100\n",
            "34/34 [==============================] - 11s 119ms/step - loss: 0.0220\n",
            "Epoch 2/100\n",
            "34/34 [==============================] - 4s 119ms/step - loss: 0.0054\n",
            "Epoch 3/100\n",
            "34/34 [==============================] - 4s 120ms/step - loss: 0.0041\n",
            "Epoch 4/100\n",
            "34/34 [==============================] - 4s 118ms/step - loss: 0.0035\n",
            "Epoch 5/100\n",
            "34/34 [==============================] - 4s 119ms/step - loss: 0.0032\n",
            "Epoch 6/100\n",
            "34/34 [==============================] - 4s 120ms/step - loss: 0.0031\n",
            "Epoch 7/100\n",
            "34/34 [==============================] - 4s 117ms/step - loss: 0.0031\n",
            "Epoch 8/100\n",
            "34/34 [==============================] - 4s 118ms/step - loss: 0.0030\n",
            "Epoch 9/100\n",
            "34/34 [==============================] - 4s 118ms/step - loss: 0.0027\n",
            "Epoch 10/100\n",
            "34/34 [==============================] - 4s 118ms/step - loss: 0.0025\n",
            "Epoch 11/100\n",
            "34/34 [==============================] - 4s 117ms/step - loss: 0.0033\n",
            "Epoch 12/100\n",
            "34/34 [==============================] - 4s 119ms/step - loss: 0.0022\n",
            "Epoch 13/100\n",
            "34/34 [==============================] - 4s 120ms/step - loss: 0.0033\n",
            "Epoch 14/100\n",
            "34/34 [==============================] - 4s 120ms/step - loss: 0.0035\n",
            "Epoch 15/100\n",
            "34/34 [==============================] - 4s 121ms/step - loss: 0.0018\n",
            "Epoch 16/100\n",
            "34/34 [==============================] - 4s 118ms/step - loss: 0.0030\n",
            "Epoch 17/100\n",
            "34/34 [==============================] - 4s 120ms/step - loss: 0.0019\n",
            "Epoch 18/100\n",
            "34/34 [==============================] - 4s 122ms/step - loss: 0.0022\n",
            "Epoch 19/100\n",
            "34/34 [==============================] - 4s 121ms/step - loss: 0.0016\n",
            "Epoch 20/100\n",
            "34/34 [==============================] - 4s 122ms/step - loss: 0.0020\n",
            "Epoch 21/100\n",
            "34/34 [==============================] - 4s 121ms/step - loss: 0.0019\n",
            "Epoch 22/100\n",
            "34/34 [==============================] - 4s 123ms/step - loss: 0.0014\n",
            "Epoch 23/100\n",
            "34/34 [==============================] - 4s 121ms/step - loss: 0.0020\n",
            "Epoch 24/100\n",
            "34/34 [==============================] - 4s 121ms/step - loss: 0.0021\n",
            "Epoch 25/100\n",
            "34/34 [==============================] - 4s 121ms/step - loss: 0.0040\n",
            "Epoch 26/100\n",
            "34/34 [==============================] - 4s 119ms/step - loss: 0.0013\n",
            "Epoch 27/100\n",
            "34/34 [==============================] - 4s 119ms/step - loss: 0.0015\n",
            "Epoch 28/100\n",
            "34/34 [==============================] - 4s 122ms/step - loss: 0.0019\n",
            "Epoch 29/100\n",
            "34/34 [==============================] - 4s 117ms/step - loss: 0.0017\n",
            "Epoch 30/100\n",
            "34/34 [==============================] - 4s 120ms/step - loss: 0.0020\n",
            "Epoch 31/100\n",
            "34/34 [==============================] - 4s 120ms/step - loss: 0.0013\n",
            "Epoch 32/100\n",
            "34/34 [==============================] - 4s 119ms/step - loss: 0.0014\n",
            "Epoch 33/100\n",
            "34/34 [==============================] - 4s 120ms/step - loss: 0.0020\n",
            "Epoch 34/100\n",
            "34/34 [==============================] - 4s 120ms/step - loss: 0.0017\n",
            "Epoch 35/100\n",
            "34/34 [==============================] - 4s 120ms/step - loss: 0.0013\n",
            "Epoch 36/100\n",
            "34/34 [==============================] - 4s 123ms/step - loss: 0.0014\n",
            "Epoch 37/100\n",
            "34/34 [==============================] - 4s 121ms/step - loss: 0.0015\n",
            "Epoch 38/100\n",
            "34/34 [==============================] - 4s 118ms/step - loss: 0.0015\n",
            "Epoch 39/100\n",
            "34/34 [==============================] - 4s 120ms/step - loss: 0.0024\n",
            "Epoch 40/100\n",
            "34/34 [==============================] - 4s 117ms/step - loss: 0.0013\n",
            "Epoch 41/100\n",
            "34/34 [==============================] - 4s 118ms/step - loss: 0.0011\n",
            "Epoch 42/100\n",
            "34/34 [==============================] - 4s 119ms/step - loss: 0.0013\n",
            "Epoch 43/100\n",
            "34/34 [==============================] - 4s 118ms/step - loss: 0.0012\n",
            "Epoch 44/100\n",
            "34/34 [==============================] - 4s 123ms/step - loss: 0.0011\n",
            "Epoch 45/100\n",
            "34/34 [==============================] - 4s 120ms/step - loss: 0.0012\n",
            "Epoch 46/100\n",
            "34/34 [==============================] - 4s 118ms/step - loss: 0.0011\n",
            "Epoch 47/100\n",
            "34/34 [==============================] - 4s 119ms/step - loss: 0.0014\n",
            "Epoch 48/100\n",
            "34/34 [==============================] - 4s 117ms/step - loss: 0.0012\n",
            "Epoch 49/100\n",
            "34/34 [==============================] - 4s 117ms/step - loss: 0.0013\n",
            "Epoch 50/100\n",
            "34/34 [==============================] - 4s 118ms/step - loss: 0.0012\n",
            "Epoch 51/100\n",
            "34/34 [==============================] - 4s 120ms/step - loss: 0.0013\n",
            "Epoch 52/100\n",
            "34/34 [==============================] - 4s 117ms/step - loss: 0.0012\n",
            "Epoch 53/100\n",
            "34/34 [==============================] - 4s 121ms/step - loss: 0.0014\n",
            "Epoch 54/100\n",
            "34/34 [==============================] - 4s 118ms/step - loss: 0.0016\n",
            "Epoch 55/100\n",
            "34/34 [==============================] - 4s 118ms/step - loss: 0.0012\n",
            "Epoch 56/100\n",
            "34/34 [==============================] - 4s 118ms/step - loss: 0.0010\n",
            "Epoch 57/100\n",
            "34/34 [==============================] - 4s 120ms/step - loss: 0.0011\n",
            "Epoch 58/100\n",
            "34/34 [==============================] - 4s 119ms/step - loss: 0.0013\n",
            "Epoch 59/100\n",
            "34/34 [==============================] - 4s 117ms/step - loss: 0.0015\n",
            "Epoch 60/100\n",
            "34/34 [==============================] - 4s 121ms/step - loss: 0.0014\n",
            "Epoch 61/100\n",
            "34/34 [==============================] - 4s 118ms/step - loss: 9.4802e-04\n",
            "Epoch 62/100\n",
            "34/34 [==============================] - 4s 119ms/step - loss: 0.0017\n",
            "Epoch 63/100\n",
            "34/34 [==============================] - 4s 121ms/step - loss: 7.7930e-04\n",
            "Epoch 64/100\n",
            "34/34 [==============================] - 4s 119ms/step - loss: 0.0011\n",
            "Epoch 65/100\n",
            "34/34 [==============================] - 4s 118ms/step - loss: 9.6301e-04\n",
            "Epoch 66/100\n",
            "34/34 [==============================] - 4s 119ms/step - loss: 0.0012\n",
            "Epoch 67/100\n",
            "34/34 [==============================] - 4s 120ms/step - loss: 0.0010\n",
            "Epoch 68/100\n",
            "34/34 [==============================] - 4s 120ms/step - loss: 0.0011\n",
            "Epoch 69/100\n",
            "34/34 [==============================] - 4s 119ms/step - loss: 8.3912e-04\n",
            "Epoch 70/100\n",
            "34/34 [==============================] - 4s 120ms/step - loss: 0.0013\n",
            "Epoch 71/100\n",
            "34/34 [==============================] - 4s 119ms/step - loss: 0.0012\n",
            "Epoch 72/100\n",
            "34/34 [==============================] - 4s 118ms/step - loss: 9.1130e-04\n",
            "Epoch 73/100\n",
            "34/34 [==============================] - 4s 119ms/step - loss: 9.6706e-04\n",
            "Epoch 74/100\n",
            "34/34 [==============================] - 4s 118ms/step - loss: 9.1904e-04\n",
            "Epoch 75/100\n",
            "34/34 [==============================] - 4s 119ms/step - loss: 9.7824e-04\n",
            "Epoch 76/100\n",
            "34/34 [==============================] - 4s 118ms/step - loss: 0.0011\n",
            "Epoch 77/100\n",
            "34/34 [==============================] - 4s 121ms/step - loss: 0.0011\n",
            "Epoch 78/100\n",
            "34/34 [==============================] - 4s 118ms/step - loss: 8.1691e-04\n",
            "Epoch 79/100\n",
            "34/34 [==============================] - 4s 118ms/step - loss: 0.0013\n",
            "Epoch 80/100\n",
            "34/34 [==============================] - 4s 119ms/step - loss: 0.0013\n",
            "Epoch 81/100\n",
            "34/34 [==============================] - 4s 118ms/step - loss: 7.9977e-04\n",
            "Epoch 82/100\n",
            "34/34 [==============================] - 4s 118ms/step - loss: 8.1668e-04\n",
            "Epoch 83/100\n",
            "34/34 [==============================] - 4s 119ms/step - loss: 0.0013\n",
            "Epoch 84/100\n",
            "34/34 [==============================] - 4s 119ms/step - loss: 0.0011\n",
            "Epoch 85/100\n",
            "34/34 [==============================] - 4s 123ms/step - loss: 0.0012\n",
            "Epoch 86/100\n",
            "34/34 [==============================] - 4s 120ms/step - loss: 8.7762e-04\n",
            "Epoch 87/100\n",
            "34/34 [==============================] - 4s 120ms/step - loss: 7.7316e-04\n",
            "Epoch 88/100\n",
            "34/34 [==============================] - 4s 121ms/step - loss: 6.9727e-04\n",
            "Epoch 89/100\n",
            "34/34 [==============================] - 4s 118ms/step - loss: 5.9688e-04\n",
            "Epoch 90/100\n",
            "34/34 [==============================] - 4s 119ms/step - loss: 0.0010\n",
            "Epoch 91/100\n",
            "34/34 [==============================] - 4s 120ms/step - loss: 8.9574e-04\n",
            "Epoch 92/100\n",
            "34/34 [==============================] - 4s 120ms/step - loss: 9.0678e-04\n",
            "Epoch 93/100\n",
            "34/34 [==============================] - 4s 120ms/step - loss: 0.0011\n",
            "Epoch 94/100\n",
            "34/34 [==============================] - 4s 120ms/step - loss: 9.0525e-04\n",
            "Epoch 95/100\n",
            "34/34 [==============================] - 4s 121ms/step - loss: 6.9890e-04\n",
            "Epoch 96/100\n",
            "34/34 [==============================] - 4s 120ms/step - loss: 8.3747e-04\n",
            "Epoch 97/100\n",
            "34/34 [==============================] - 4s 120ms/step - loss: 7.3229e-04\n",
            "Epoch 98/100\n",
            "34/34 [==============================] - 4s 121ms/step - loss: 0.0010\n",
            "Epoch 99/100\n",
            "34/34 [==============================] - 4s 121ms/step - loss: 7.4095e-04\n",
            "Epoch 100/100\n",
            "34/34 [==============================] - 4s 119ms/step - loss: 7.4328e-04\n"
          ],
          "name": "stdout"
        },
        {
          "output_type": "execute_result",
          "data": {
            "text/plain": [
              "<keras.callbacks.History at 0x7f3a71cc7850>"
            ]
          },
          "metadata": {
            "tags": []
          },
          "execution_count": 109
        }
      ]
    },
    {
      "cell_type": "code",
      "metadata": {
        "colab": {
          "base_uri": "https://localhost:8080/"
        },
        "id": "iNlntfkEZSLY",
        "outputId": "7d3c8a4f-2dae-4ac1-ebe4-bd6a966f7a5c"
      },
      "source": [
        "regressor.save('drive.google.com/drive/folders/1hq5Eqow1HslGmWhCReYt3GWq9vwxs48u?usp=sharing')"
      ],
      "execution_count": null,
      "outputs": [
        {
          "output_type": "stream",
          "text": [
            "WARNING:absl:Found untraced functions such as lstm_cell_16_layer_call_and_return_conditional_losses, lstm_cell_16_layer_call_fn, lstm_cell_17_layer_call_and_return_conditional_losses, lstm_cell_17_layer_call_fn, lstm_cell_18_layer_call_and_return_conditional_losses while saving (showing 5 of 20). These functions will not be directly callable after loading.\n"
          ],
          "name": "stderr"
        },
        {
          "output_type": "stream",
          "text": [
            "INFO:tensorflow:Assets written to: drive.google.com/drive/folders/1hq5Eqow1HslGmWhCReYt3GWq9vwxs48u?usp=sharing/assets\n"
          ],
          "name": "stdout"
        },
        {
          "output_type": "stream",
          "text": [
            "INFO:tensorflow:Assets written to: drive.google.com/drive/folders/1hq5Eqow1HslGmWhCReYt3GWq9vwxs48u?usp=sharing/assets\n"
          ],
          "name": "stderr"
        }
      ]
    },
    {
      "cell_type": "code",
      "metadata": {
        "colab": {
          "base_uri": "https://localhost:8080/"
        },
        "id": "jMaotCGZdu46",
        "outputId": "7b99bf7a-b92d-4fdc-b235-6e05287ee621"
      },
      "source": [
        "regressor.summary()"
      ],
      "execution_count": null,
      "outputs": [
        {
          "output_type": "stream",
          "text": [
            "Model: \"sequential_4\"\n",
            "_________________________________________________________________\n",
            "Layer (type)                 Output Shape              Param #   \n",
            "=================================================================\n",
            "lstm_16 (LSTM)               (None, 60, 50)            10400     \n",
            "_________________________________________________________________\n",
            "dropout_16 (Dropout)         (None, 60, 50)            0         \n",
            "_________________________________________________________________\n",
            "lstm_17 (LSTM)               (None, 60, 50)            20200     \n",
            "_________________________________________________________________\n",
            "dropout_17 (Dropout)         (None, 60, 50)            0         \n",
            "_________________________________________________________________\n",
            "lstm_18 (LSTM)               (None, 60, 50)            20200     \n",
            "_________________________________________________________________\n",
            "dropout_18 (Dropout)         (None, 60, 50)            0         \n",
            "_________________________________________________________________\n",
            "lstm_19 (LSTM)               (None, 50)                20200     \n",
            "_________________________________________________________________\n",
            "dropout_19 (Dropout)         (None, 50)                0         \n",
            "_________________________________________________________________\n",
            "dense_4 (Dense)              (None, 1)                 51        \n",
            "=================================================================\n",
            "Total params: 71,051\n",
            "Trainable params: 71,051\n",
            "Non-trainable params: 0\n",
            "_________________________________________________________________\n"
          ],
          "name": "stdout"
        }
      ]
    },
    {
      "cell_type": "markdown",
      "metadata": {
        "id": "4hRau_lIkrE8"
      },
      "source": [
        "## Part 3 - Making the predictions and visualising the results"
      ]
    },
    {
      "cell_type": "markdown",
      "metadata": {
        "id": "SgJO6qEDksxD"
      },
      "source": [
        "### Getting the real  price of 2018-2021\n",
        "\n",
        "\n"
      ]
    },
    {
      "cell_type": "code",
      "metadata": {
        "colab": {
          "base_uri": "https://localhost:8080/"
        },
        "id": "FmBT2zqukxTz",
        "outputId": "d8c45c82-c5fd-4dc7-f04e-2048ec987202"
      },
      "source": [
        "dataset_test = pd.read_excel('Bitcoin_price_test.xlsx')\n",
        "real__price= dataset_test.iloc[:, 1:20].values\n",
        "real__price"
      ],
      "execution_count": null,
      "outputs": [
        {
          "output_type": "execute_result",
          "data": {
            "text/plain": [
              "array([[6598.4, 6513.8, 6774.5, 6442.3, '143.04K', 0.013],\n",
              "       [6513.5, 6618.6, 6676.6, 6513.5, '150.19K', -0.016],\n",
              "       [6619.5, 6349.1, 6680.0, 6275.0, '179.92K', 0.0397],\n",
              "       [6366.8, 6398.5, 6445.1, 6284.7, '128.51K', -0.005],\n",
              "       [6398.9, 6213.4, 6498.5, 6204.0, '189.33K', 0.0299],\n",
              "       [6213.3, 5883.2, 6284.9, 5818.5, '206.96K', 0.0561],\n",
              "       [5883.5, 6154.9, 6178.4, 5854.0, '156.05K', -0.0441],\n",
              "       [6154.9, 6081.1, 6187.3, 6025.4, '133.42K', 0.012],\n",
              "       [6082.1, 6256.9, 6267.7, 6060.0, '176.66K', -0.0279],\n",
              "       [6256.6, 6155.1, 6331.2, 6101.7, '210.69K', 0.0166],\n",
              "       [6154.6, 6167.9, 6248.3, 5785.3, '240.60K', -0.0021],\n",
              "       [6167.3, 6055.2, 6259.0, 6032.8, '142.90K', 0.0184],\n",
              "       [6055.7, 6728.2, 6739.7, 5955.0, '278.22K', -0.0999],\n",
              "       [6728.0, 6765.8, 6797.5, 6695.1, '99.29K', -0.0055],\n",
              "       [6765.4, 6752.3, 6812.7, 6575.1, '121.48K', 0.0019],\n",
              "       [6752.4, 6719.8, 6839.5, 6681.5, '120.54K', 0.0049],\n",
              "       [6719.8, 6460.5, 6794.5, 6410.9, '135.70K', 0.0402],\n",
              "       [6460.3, 6505.8, 6593.0, 6452.1, '90.67K', -0.007],\n",
              "       [6505.8, 6410.0, 6564.2, 6358.0, '108.79K', 0.0149],\n",
              "       [6410.3, 6647.3, 6655.8, 6395.7, '143.53K', -0.0356],\n",
              "       [6647.1, 6312.3, 6711.5, 6283.6, '201.54K', 0.053]], dtype=object)"
            ]
          },
          "metadata": {
            "tags": []
          },
          "execution_count": 112
        }
      ]
    },
    {
      "cell_type": "markdown",
      "metadata": {
        "id": "GrvrLblxkz42"
      },
      "source": [
        "### Getting the predicted  price of 2018\n",
        "\n",
        "\n",
        "\n"
      ]
    },
    {
      "cell_type": "code",
      "metadata": {
        "colab": {
          "base_uri": "https://localhost:8080/"
        },
        "id": "emikTvUpk3Ck",
        "outputId": "cacb826c-f159-4b64-9823-4141c56079eb"
      },
      "source": [
        "dataset_total = pd.concat((dataset_train['close'], dataset_test['close']), axis = 0)\n",
        "inputs = dataset_total[len(dataset_total) - len(dataset_test) - 60:].values\n",
        "inputs = inputs.reshape(-1,1)\n",
        "inputs = sc.transform(inputs)\n",
        "X_test = []\n",
        "for i in range(60, 82):\n",
        "    X_test.append(inputs[i-60:i, 0])\n",
        "X_test = np.array(X_test)\n",
        "X_test = np.reshape(X_test, (X_test.shape[0], X_test.shape[1], 1))\n",
        "predicted__price = regressor.predict(X_test)\n",
        "predicted__price = sc.inverse_transform(predicted__price)\n",
        "predicted__price"
      ],
      "execution_count": null,
      "outputs": [
        {
          "output_type": "stream",
          "text": [
            "WARNING:tensorflow:5 out of the last 10 calls to <function Model.make_predict_function.<locals>.predict_function at 0x7f3a7dc6ca70> triggered tf.function retracing. Tracing is expensive and the excessive number of tracings could be due to (1) creating @tf.function repeatedly in a loop, (2) passing tensors with different shapes, (3) passing Python objects instead of tensors. For (1), please define your @tf.function outside of the loop. For (2), @tf.function has experimental_relax_shapes=True option that relaxes argument shapes that can avoid unnecessary retracing. For (3), please refer to https://www.tensorflow.org/guide/function#controlling_retracing and https://www.tensorflow.org/api_docs/python/tf/function for  more details.\n"
          ],
          "name": "stdout"
        },
        {
          "output_type": "stream",
          "text": [
            "WARNING:tensorflow:5 out of the last 10 calls to <function Model.make_predict_function.<locals>.predict_function at 0x7f3a7dc6ca70> triggered tf.function retracing. Tracing is expensive and the excessive number of tracings could be due to (1) creating @tf.function repeatedly in a loop, (2) passing tensors with different shapes, (3) passing Python objects instead of tensors. For (1), please define your @tf.function outside of the loop. For (2), @tf.function has experimental_relax_shapes=True option that relaxes argument shapes that can avoid unnecessary retracing. For (3), please refer to https://www.tensorflow.org/guide/function#controlling_retracing and https://www.tensorflow.org/api_docs/python/tf/function for  more details.\n"
          ],
          "name": "stderr"
        },
        {
          "output_type": "execute_result",
          "data": {
            "text/plain": [
              "array([[7097.3403],\n",
              "       [7062.9805],\n",
              "       [7032.36  ],\n",
              "       [7012.0073],\n",
              "       [6982.0073],\n",
              "       [6938.489 ],\n",
              "       [6873.092 ],\n",
              "       [6765.046 ],\n",
              "       [6647.2725],\n",
              "       [6543.963 ],\n",
              "       [6482.2515],\n",
              "       [6458.444 ],\n",
              "       [6461.1123],\n",
              "       [6469.3096],\n",
              "       [6529.09  ],\n",
              "       [6651.532 ],\n",
              "       [6810.0796],\n",
              "       [6965.841 ],\n",
              "       [7069.1406],\n",
              "       [7110.282 ],\n",
              "       [7095.158 ],\n",
              "       [7063.2046]], dtype=float32)"
            ]
          },
          "metadata": {
            "tags": []
          },
          "execution_count": 113
        }
      ]
    },
    {
      "cell_type": "markdown",
      "metadata": {
        "id": "iFTNs3YHk6FQ"
      },
      "source": [
        "### Visualising the results"
      ]
    },
    {
      "cell_type": "code",
      "metadata": {
        "colab": {
          "base_uri": "https://localhost:8080/",
          "height": 736
        },
        "id": "8OUI8U49k9tH",
        "outputId": "28499a39-e20e-4910-d2d5-09eee0f3e85a"
      },
      "source": [
        "plt.plot(real__price, color = 'red', label = 'test Bitcoin Price')\n",
        "plt.plot(predicted__price, color = 'blue', label = 'Predicted Bitcoin Price')\n",
        "plt.title('Bitcoin Price Prediction')\n",
        "plt.xlabel('Time')\n",
        "plt.ylabel('Bitcoin Price')\n",
        "plt.legend()\n",
        "plt.show()"
      ],
      "execution_count": null,
      "outputs": [
        {
          "output_type": "error",
          "ename": "ConversionError",
          "evalue": "ignored",
          "traceback": [
            "\u001b[0;31m---------------------------------------------------------------------------\u001b[0m",
            "\u001b[0;31mValueError\u001b[0m                                Traceback (most recent call last)",
            "\u001b[0;32m/usr/local/lib/python3.7/dist-packages/matplotlib/axis.py\u001b[0m in \u001b[0;36mconvert_units\u001b[0;34m(self, x)\u001b[0m\n\u001b[1;32m   1572\u001b[0m         \u001b[0;32mtry\u001b[0m\u001b[0;34m:\u001b[0m\u001b[0;34m\u001b[0m\u001b[0;34m\u001b[0m\u001b[0m\n\u001b[0;32m-> 1573\u001b[0;31m             \u001b[0mret\u001b[0m \u001b[0;34m=\u001b[0m \u001b[0mself\u001b[0m\u001b[0;34m.\u001b[0m\u001b[0mconverter\u001b[0m\u001b[0;34m.\u001b[0m\u001b[0mconvert\u001b[0m\u001b[0;34m(\u001b[0m\u001b[0mx\u001b[0m\u001b[0;34m,\u001b[0m \u001b[0mself\u001b[0m\u001b[0;34m.\u001b[0m\u001b[0munits\u001b[0m\u001b[0;34m,\u001b[0m \u001b[0mself\u001b[0m\u001b[0;34m)\u001b[0m\u001b[0;34m\u001b[0m\u001b[0;34m\u001b[0m\u001b[0m\n\u001b[0m\u001b[1;32m   1574\u001b[0m         \u001b[0;32mexcept\u001b[0m \u001b[0mException\u001b[0m \u001b[0;32mas\u001b[0m \u001b[0me\u001b[0m\u001b[0;34m:\u001b[0m\u001b[0;34m\u001b[0m\u001b[0;34m\u001b[0m\u001b[0m\n",
            "\u001b[0;32m/usr/local/lib/python3.7/dist-packages/matplotlib/category.py\u001b[0m in \u001b[0;36mconvert\u001b[0;34m(value, unit, axis)\u001b[0m\n\u001b[1;32m     49\u001b[0m             raise ValueError(\n\u001b[0;32m---> 50\u001b[0;31m                 \u001b[0;34m'Missing category information for StrCategoryConverter; '\u001b[0m\u001b[0;34m\u001b[0m\u001b[0;34m\u001b[0m\u001b[0m\n\u001b[0m\u001b[1;32m     51\u001b[0m                 \u001b[0;34m'this might be caused by unintendedly mixing categorical and '\u001b[0m\u001b[0;34m\u001b[0m\u001b[0;34m\u001b[0m\u001b[0m\n",
            "\u001b[0;31mValueError\u001b[0m: Missing category information for StrCategoryConverter; this might be caused by unintendedly mixing categorical and numeric data",
            "\nThe above exception was the direct cause of the following exception:\n",
            "\u001b[0;31mConversionError\u001b[0m                           Traceback (most recent call last)",
            "\u001b[0;32m<ipython-input-114-b2c237253aa4>\u001b[0m in \u001b[0;36m<module>\u001b[0;34m()\u001b[0m\n\u001b[0;32m----> 1\u001b[0;31m \u001b[0mplt\u001b[0m\u001b[0;34m.\u001b[0m\u001b[0mplot\u001b[0m\u001b[0;34m(\u001b[0m\u001b[0mreal__price\u001b[0m\u001b[0;34m,\u001b[0m \u001b[0mcolor\u001b[0m \u001b[0;34m=\u001b[0m \u001b[0;34m'red'\u001b[0m\u001b[0;34m,\u001b[0m \u001b[0mlabel\u001b[0m \u001b[0;34m=\u001b[0m \u001b[0;34m'test Bitcoin Price'\u001b[0m\u001b[0;34m)\u001b[0m\u001b[0;34m\u001b[0m\u001b[0;34m\u001b[0m\u001b[0m\n\u001b[0m\u001b[1;32m      2\u001b[0m \u001b[0mplt\u001b[0m\u001b[0;34m.\u001b[0m\u001b[0mplot\u001b[0m\u001b[0;34m(\u001b[0m\u001b[0mpredicted__price\u001b[0m\u001b[0;34m,\u001b[0m \u001b[0mcolor\u001b[0m \u001b[0;34m=\u001b[0m \u001b[0;34m'blue'\u001b[0m\u001b[0;34m,\u001b[0m \u001b[0mlabel\u001b[0m \u001b[0;34m=\u001b[0m \u001b[0;34m'Predicted Bitcoin Price'\u001b[0m\u001b[0;34m)\u001b[0m\u001b[0;34m\u001b[0m\u001b[0;34m\u001b[0m\u001b[0m\n\u001b[1;32m      3\u001b[0m \u001b[0mplt\u001b[0m\u001b[0;34m.\u001b[0m\u001b[0mtitle\u001b[0m\u001b[0;34m(\u001b[0m\u001b[0;34m'Bitcoin Price Prediction'\u001b[0m\u001b[0;34m)\u001b[0m\u001b[0;34m\u001b[0m\u001b[0;34m\u001b[0m\u001b[0m\n\u001b[1;32m      4\u001b[0m \u001b[0mplt\u001b[0m\u001b[0;34m.\u001b[0m\u001b[0mxlabel\u001b[0m\u001b[0;34m(\u001b[0m\u001b[0;34m'Time'\u001b[0m\u001b[0;34m)\u001b[0m\u001b[0;34m\u001b[0m\u001b[0;34m\u001b[0m\u001b[0m\n\u001b[1;32m      5\u001b[0m \u001b[0mplt\u001b[0m\u001b[0;34m.\u001b[0m\u001b[0mylabel\u001b[0m\u001b[0;34m(\u001b[0m\u001b[0;34m'Bitcoin Price'\u001b[0m\u001b[0;34m)\u001b[0m\u001b[0;34m\u001b[0m\u001b[0;34m\u001b[0m\u001b[0m\n",
            "\u001b[0;32m/usr/local/lib/python3.7/dist-packages/matplotlib/pyplot.py\u001b[0m in \u001b[0;36mplot\u001b[0;34m(scalex, scaley, data, *args, **kwargs)\u001b[0m\n\u001b[1;32m   2761\u001b[0m     return gca().plot(\n\u001b[1;32m   2762\u001b[0m         *args, scalex=scalex, scaley=scaley, **({\"data\": data} if data\n\u001b[0;32m-> 2763\u001b[0;31m         is not None else {}), **kwargs)\n\u001b[0m\u001b[1;32m   2764\u001b[0m \u001b[0;34m\u001b[0m\u001b[0m\n\u001b[1;32m   2765\u001b[0m \u001b[0;34m\u001b[0m\u001b[0m\n",
            "\u001b[0;32m/usr/local/lib/python3.7/dist-packages/matplotlib/axes/_axes.py\u001b[0m in \u001b[0;36mplot\u001b[0;34m(self, scalex, scaley, data, *args, **kwargs)\u001b[0m\n\u001b[1;32m   1647\u001b[0m         \u001b[0mlines\u001b[0m \u001b[0;34m=\u001b[0m \u001b[0;34m[\u001b[0m\u001b[0;34m*\u001b[0m\u001b[0mself\u001b[0m\u001b[0;34m.\u001b[0m\u001b[0m_get_lines\u001b[0m\u001b[0;34m(\u001b[0m\u001b[0;34m*\u001b[0m\u001b[0margs\u001b[0m\u001b[0;34m,\u001b[0m \u001b[0mdata\u001b[0m\u001b[0;34m=\u001b[0m\u001b[0mdata\u001b[0m\u001b[0;34m,\u001b[0m \u001b[0;34m**\u001b[0m\u001b[0mkwargs\u001b[0m\u001b[0;34m)\u001b[0m\u001b[0;34m]\u001b[0m\u001b[0;34m\u001b[0m\u001b[0;34m\u001b[0m\u001b[0m\n\u001b[1;32m   1648\u001b[0m         \u001b[0;32mfor\u001b[0m \u001b[0mline\u001b[0m \u001b[0;32min\u001b[0m \u001b[0mlines\u001b[0m\u001b[0;34m:\u001b[0m\u001b[0;34m\u001b[0m\u001b[0;34m\u001b[0m\u001b[0m\n\u001b[0;32m-> 1649\u001b[0;31m             \u001b[0mself\u001b[0m\u001b[0;34m.\u001b[0m\u001b[0madd_line\u001b[0m\u001b[0;34m(\u001b[0m\u001b[0mline\u001b[0m\u001b[0;34m)\u001b[0m\u001b[0;34m\u001b[0m\u001b[0;34m\u001b[0m\u001b[0m\n\u001b[0m\u001b[1;32m   1650\u001b[0m         \u001b[0mself\u001b[0m\u001b[0;34m.\u001b[0m\u001b[0m_request_autoscale_view\u001b[0m\u001b[0;34m(\u001b[0m\u001b[0mscalex\u001b[0m\u001b[0;34m=\u001b[0m\u001b[0mscalex\u001b[0m\u001b[0;34m,\u001b[0m \u001b[0mscaley\u001b[0m\u001b[0;34m=\u001b[0m\u001b[0mscaley\u001b[0m\u001b[0;34m)\u001b[0m\u001b[0;34m\u001b[0m\u001b[0;34m\u001b[0m\u001b[0m\n\u001b[1;32m   1651\u001b[0m         \u001b[0;32mreturn\u001b[0m \u001b[0mlines\u001b[0m\u001b[0;34m\u001b[0m\u001b[0;34m\u001b[0m\u001b[0m\n",
            "\u001b[0;32m/usr/local/lib/python3.7/dist-packages/matplotlib/axes/_base.py\u001b[0m in \u001b[0;36madd_line\u001b[0;34m(self, line)\u001b[0m\n\u001b[1;32m   1848\u001b[0m             \u001b[0mline\u001b[0m\u001b[0;34m.\u001b[0m\u001b[0mset_clip_path\u001b[0m\u001b[0;34m(\u001b[0m\u001b[0mself\u001b[0m\u001b[0;34m.\u001b[0m\u001b[0mpatch\u001b[0m\u001b[0;34m)\u001b[0m\u001b[0;34m\u001b[0m\u001b[0;34m\u001b[0m\u001b[0m\n\u001b[1;32m   1849\u001b[0m \u001b[0;34m\u001b[0m\u001b[0m\n\u001b[0;32m-> 1850\u001b[0;31m         \u001b[0mself\u001b[0m\u001b[0;34m.\u001b[0m\u001b[0m_update_line_limits\u001b[0m\u001b[0;34m(\u001b[0m\u001b[0mline\u001b[0m\u001b[0;34m)\u001b[0m\u001b[0;34m\u001b[0m\u001b[0;34m\u001b[0m\u001b[0m\n\u001b[0m\u001b[1;32m   1851\u001b[0m         \u001b[0;32mif\u001b[0m \u001b[0;32mnot\u001b[0m \u001b[0mline\u001b[0m\u001b[0;34m.\u001b[0m\u001b[0mget_label\u001b[0m\u001b[0;34m(\u001b[0m\u001b[0;34m)\u001b[0m\u001b[0;34m:\u001b[0m\u001b[0;34m\u001b[0m\u001b[0;34m\u001b[0m\u001b[0m\n\u001b[1;32m   1852\u001b[0m             \u001b[0mline\u001b[0m\u001b[0;34m.\u001b[0m\u001b[0mset_label\u001b[0m\u001b[0;34m(\u001b[0m\u001b[0;34m'_line%d'\u001b[0m \u001b[0;34m%\u001b[0m \u001b[0mlen\u001b[0m\u001b[0;34m(\u001b[0m\u001b[0mself\u001b[0m\u001b[0;34m.\u001b[0m\u001b[0mlines\u001b[0m\u001b[0;34m)\u001b[0m\u001b[0;34m)\u001b[0m\u001b[0;34m\u001b[0m\u001b[0;34m\u001b[0m\u001b[0m\n",
            "\u001b[0;32m/usr/local/lib/python3.7/dist-packages/matplotlib/axes/_base.py\u001b[0m in \u001b[0;36m_update_line_limits\u001b[0;34m(self, line)\u001b[0m\n\u001b[1;32m   1870\u001b[0m         \u001b[0mFigures\u001b[0m \u001b[0mout\u001b[0m \u001b[0mthe\u001b[0m \u001b[0mdata\u001b[0m \u001b[0mlimit\u001b[0m \u001b[0mof\u001b[0m \u001b[0mthe\u001b[0m \u001b[0mgiven\u001b[0m \u001b[0mline\u001b[0m\u001b[0;34m,\u001b[0m \u001b[0mupdating\u001b[0m \u001b[0mself\u001b[0m\u001b[0;34m.\u001b[0m\u001b[0mdataLim\u001b[0m\u001b[0;34m.\u001b[0m\u001b[0;34m\u001b[0m\u001b[0;34m\u001b[0m\u001b[0m\n\u001b[1;32m   1871\u001b[0m         \"\"\"\n\u001b[0;32m-> 1872\u001b[0;31m         \u001b[0mpath\u001b[0m \u001b[0;34m=\u001b[0m \u001b[0mline\u001b[0m\u001b[0;34m.\u001b[0m\u001b[0mget_path\u001b[0m\u001b[0;34m(\u001b[0m\u001b[0;34m)\u001b[0m\u001b[0;34m\u001b[0m\u001b[0;34m\u001b[0m\u001b[0m\n\u001b[0m\u001b[1;32m   1873\u001b[0m         \u001b[0;32mif\u001b[0m \u001b[0mpath\u001b[0m\u001b[0;34m.\u001b[0m\u001b[0mvertices\u001b[0m\u001b[0;34m.\u001b[0m\u001b[0msize\u001b[0m \u001b[0;34m==\u001b[0m \u001b[0;36m0\u001b[0m\u001b[0;34m:\u001b[0m\u001b[0;34m\u001b[0m\u001b[0;34m\u001b[0m\u001b[0m\n\u001b[1;32m   1874\u001b[0m             \u001b[0;32mreturn\u001b[0m\u001b[0;34m\u001b[0m\u001b[0;34m\u001b[0m\u001b[0m\n",
            "\u001b[0;32m/usr/local/lib/python3.7/dist-packages/matplotlib/lines.py\u001b[0m in \u001b[0;36mget_path\u001b[0;34m(self)\u001b[0m\n\u001b[1;32m   1025\u001b[0m         \"\"\"\n\u001b[1;32m   1026\u001b[0m         \u001b[0;32mif\u001b[0m \u001b[0mself\u001b[0m\u001b[0;34m.\u001b[0m\u001b[0m_invalidy\u001b[0m \u001b[0;32mor\u001b[0m \u001b[0mself\u001b[0m\u001b[0;34m.\u001b[0m\u001b[0m_invalidx\u001b[0m\u001b[0;34m:\u001b[0m\u001b[0;34m\u001b[0m\u001b[0;34m\u001b[0m\u001b[0m\n\u001b[0;32m-> 1027\u001b[0;31m             \u001b[0mself\u001b[0m\u001b[0;34m.\u001b[0m\u001b[0mrecache\u001b[0m\u001b[0;34m(\u001b[0m\u001b[0;34m)\u001b[0m\u001b[0;34m\u001b[0m\u001b[0;34m\u001b[0m\u001b[0m\n\u001b[0m\u001b[1;32m   1028\u001b[0m         \u001b[0;32mreturn\u001b[0m \u001b[0mself\u001b[0m\u001b[0;34m.\u001b[0m\u001b[0m_path\u001b[0m\u001b[0;34m\u001b[0m\u001b[0;34m\u001b[0m\u001b[0m\n\u001b[1;32m   1029\u001b[0m \u001b[0;34m\u001b[0m\u001b[0m\n",
            "\u001b[0;32m/usr/local/lib/python3.7/dist-packages/matplotlib/lines.py\u001b[0m in \u001b[0;36mrecache\u001b[0;34m(self, always)\u001b[0m\n\u001b[1;32m    672\u001b[0m             \u001b[0mx\u001b[0m \u001b[0;34m=\u001b[0m \u001b[0mself\u001b[0m\u001b[0;34m.\u001b[0m\u001b[0m_x\u001b[0m\u001b[0;34m\u001b[0m\u001b[0;34m\u001b[0m\u001b[0m\n\u001b[1;32m    673\u001b[0m         \u001b[0;32mif\u001b[0m \u001b[0malways\u001b[0m \u001b[0;32mor\u001b[0m \u001b[0mself\u001b[0m\u001b[0;34m.\u001b[0m\u001b[0m_invalidy\u001b[0m\u001b[0;34m:\u001b[0m\u001b[0;34m\u001b[0m\u001b[0;34m\u001b[0m\u001b[0m\n\u001b[0;32m--> 674\u001b[0;31m             \u001b[0myconv\u001b[0m \u001b[0;34m=\u001b[0m \u001b[0mself\u001b[0m\u001b[0;34m.\u001b[0m\u001b[0mconvert_yunits\u001b[0m\u001b[0;34m(\u001b[0m\u001b[0mself\u001b[0m\u001b[0;34m.\u001b[0m\u001b[0m_yorig\u001b[0m\u001b[0;34m)\u001b[0m\u001b[0;34m\u001b[0m\u001b[0;34m\u001b[0m\u001b[0m\n\u001b[0m\u001b[1;32m    675\u001b[0m             \u001b[0my\u001b[0m \u001b[0;34m=\u001b[0m \u001b[0m_to_unmasked_float_array\u001b[0m\u001b[0;34m(\u001b[0m\u001b[0myconv\u001b[0m\u001b[0;34m)\u001b[0m\u001b[0;34m.\u001b[0m\u001b[0mravel\u001b[0m\u001b[0;34m(\u001b[0m\u001b[0;34m)\u001b[0m\u001b[0;34m\u001b[0m\u001b[0;34m\u001b[0m\u001b[0m\n\u001b[1;32m    676\u001b[0m         \u001b[0;32melse\u001b[0m\u001b[0;34m:\u001b[0m\u001b[0;34m\u001b[0m\u001b[0;34m\u001b[0m\u001b[0m\n",
            "\u001b[0;32m/usr/local/lib/python3.7/dist-packages/matplotlib/artist.py\u001b[0m in \u001b[0;36mconvert_yunits\u001b[0;34m(self, y)\u001b[0m\n\u001b[1;32m    188\u001b[0m         \u001b[0;32mif\u001b[0m \u001b[0max\u001b[0m \u001b[0;32mis\u001b[0m \u001b[0;32mNone\u001b[0m \u001b[0;32mor\u001b[0m \u001b[0max\u001b[0m\u001b[0;34m.\u001b[0m\u001b[0myaxis\u001b[0m \u001b[0;32mis\u001b[0m \u001b[0;32mNone\u001b[0m\u001b[0;34m:\u001b[0m\u001b[0;34m\u001b[0m\u001b[0;34m\u001b[0m\u001b[0m\n\u001b[1;32m    189\u001b[0m             \u001b[0;32mreturn\u001b[0m \u001b[0my\u001b[0m\u001b[0;34m\u001b[0m\u001b[0;34m\u001b[0m\u001b[0m\n\u001b[0;32m--> 190\u001b[0;31m         \u001b[0;32mreturn\u001b[0m \u001b[0max\u001b[0m\u001b[0;34m.\u001b[0m\u001b[0myaxis\u001b[0m\u001b[0;34m.\u001b[0m\u001b[0mconvert_units\u001b[0m\u001b[0;34m(\u001b[0m\u001b[0my\u001b[0m\u001b[0;34m)\u001b[0m\u001b[0;34m\u001b[0m\u001b[0;34m\u001b[0m\u001b[0m\n\u001b[0m\u001b[1;32m    191\u001b[0m \u001b[0;34m\u001b[0m\u001b[0m\n\u001b[1;32m    192\u001b[0m     \u001b[0;34m@\u001b[0m\u001b[0mproperty\u001b[0m\u001b[0;34m\u001b[0m\u001b[0;34m\u001b[0m\u001b[0m\n",
            "\u001b[0;32m/usr/local/lib/python3.7/dist-packages/matplotlib/axis.py\u001b[0m in \u001b[0;36mconvert_units\u001b[0;34m(self, x)\u001b[0m\n\u001b[1;32m   1574\u001b[0m         \u001b[0;32mexcept\u001b[0m \u001b[0mException\u001b[0m \u001b[0;32mas\u001b[0m \u001b[0me\u001b[0m\u001b[0;34m:\u001b[0m\u001b[0;34m\u001b[0m\u001b[0;34m\u001b[0m\u001b[0m\n\u001b[1;32m   1575\u001b[0m             raise munits.ConversionError('Failed to convert value(s) to axis '\n\u001b[0;32m-> 1576\u001b[0;31m                                          f'units: {x!r}') from e\n\u001b[0m\u001b[1;32m   1577\u001b[0m         \u001b[0;32mreturn\u001b[0m \u001b[0mret\u001b[0m\u001b[0;34m\u001b[0m\u001b[0;34m\u001b[0m\u001b[0m\n\u001b[1;32m   1578\u001b[0m \u001b[0;34m\u001b[0m\u001b[0m\n",
            "\u001b[0;31mConversionError\u001b[0m: Failed to convert value(s) to axis units: array(['143.04K', '150.19K', '179.92K', '128.51K', '189.33K', '206.96K',\n       '156.05K', '133.42K', '176.66K', '210.69K', '240.60K', '142.90K',\n       '278.22K', '99.29K', '121.48K', '120.54K', '135.70K', '90.67K',\n       '108.79K', '143.53K', '201.54K'], dtype=object)"
          ]
        },
        {
          "output_type": "display_data",
          "data": {
            "image/png": "[encoded data removed]",
            "text/plain": [
              "<Figure size 432x288 with 1 Axes>"
            ]
          },
          "metadata": {
            "tags": [],
            "needs_background": "light"
          }
        }
      ]
    }
  ]
}