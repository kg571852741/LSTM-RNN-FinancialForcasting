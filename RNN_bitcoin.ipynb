{
  "nbformat": 4,
  "nbformat_minor": 0,
  "metadata": {
    "colab": {
      "name": "Copy of RNN.bitcoin_pratice",
      "provenance": [],
      "collapsed_sections": [],
      "include_colab_link": true
    },
    "kernelspec": {
      "display_name": "Python 3",
      "name": "python3"
    }
  },
  "cells": [
    {
      "cell_type": "markdown",
      "metadata": {
        "id": "view-in-github",
        "colab_type": "text"
      },
      "source": [
        "<a href=\"https://colab.research.google.com/github/kg571852741/LSTM-RNN-FinancialForcasting/blob/main/RNN_bitcoin.ipynb\" target=\"_parent\"><img src=\"https://colab.research.google.com/assets/colab-badge.svg\" alt=\"Open In Colab\"/></a>"
      ]
    },
    {
      "cell_type": "markdown",
      "metadata": {
        "id": "xpAuMVCwfWs8"
      },
      "source": [
        "# Recurrent Neural Network"
      ]
    },
    {
      "cell_type": "markdown",
      "metadata": {
        "id": "nxJfRe4bfYVA"
      },
      "source": [
        "## Part 1 - Data Preprocessing"
      ]
    },
    {
      "cell_type": "markdown",
      "metadata": {
        "id": "ir9zwETrfbrp"
      },
      "source": [
        "### Importing the libraries"
      ]
    },
    {
      "cell_type": "code",
      "metadata": {
        "id": "ZT1f24vHffuf"
      },
      "source": [
        "import numpy as np\n",
        "import matplotlib.pyplot as plt\n",
        "import pandas as pd"
      ],
      "execution_count": 2,
      "outputs": []
    },
    {
      "cell_type": "markdown",
      "metadata": {
        "id": "nQ47JAxrgmaL"
      },
      "source": [
        "### Importing the training set"
      ]
    },
    {
      "cell_type": "code",
      "metadata": {
        "colab": {
          "base_uri": "https://localhost:8080/",
          "height": 421
        },
        "id": "1xiv3pJOgqY3",
        "outputId": "87710d86-2676-4a01-d330-e83ec3032491"
      },
      "source": [
        "dataset_train = pd.read_csv('Bitcoin_price_train.csv')\n",
        "training_set = dataset_train.iloc[:, 1:2].values\n",
        "dataset_train"
      ],
      "execution_count": 4,
      "outputs": [
        {
          "output_type": "execute_result",
          "data": {
            "text/html": [
              "<div>\n",
              "<style scoped>\n",
              "    .dataframe tbody tr th:only-of-type {\n",
              "        vertical-align: middle;\n",
              "    }\n",
              "\n",
              "    .dataframe tbody tr th {\n",
              "        vertical-align: top;\n",
              "    }\n",
              "\n",
              "    .dataframe thead th {\n",
              "        text-align: right;\n",
              "    }\n",
              "</style>\n",
              "<table border=\"1\" class=\"dataframe\">\n",
              "  <thead>\n",
              "    <tr style=\"text-align: right;\">\n",
              "      <th></th>\n",
              "      <th>date</th>\n",
              "      <th>close</th>\n",
              "      <th>open</th>\n",
              "      <th>high</th>\n",
              "      <th>low</th>\n",
              "      <th>volune</th>\n",
              "      <th>change</th>\n",
              "    </tr>\n",
              "  </thead>\n",
              "  <tbody>\n",
              "    <tr>\n",
              "      <th>0</th>\n",
              "      <td>2021年7月14日</td>\n",
              "      <td>32820.7</td>\n",
              "      <td>32727.8</td>\n",
              "      <td>33051.9</td>\n",
              "      <td>31611.2</td>\n",
              "      <td>69.56K</td>\n",
              "      <td>0.0028</td>\n",
              "    </tr>\n",
              "    <tr>\n",
              "      <th>1</th>\n",
              "      <td>2021年7月13日</td>\n",
              "      <td>32728.1</td>\n",
              "      <td>33106.1</td>\n",
              "      <td>33307.7</td>\n",
              "      <td>32259.5</td>\n",
              "      <td>60.04K</td>\n",
              "      <td>-0.0116</td>\n",
              "    </tr>\n",
              "    <tr>\n",
              "      <th>2</th>\n",
              "      <td>2021年7月12日</td>\n",
              "      <td>33113.0</td>\n",
              "      <td>34228.3</td>\n",
              "      <td>34598.0</td>\n",
              "      <td>32662.8</td>\n",
              "      <td>63.24K</td>\n",
              "      <td>-0.0326</td>\n",
              "    </tr>\n",
              "    <tr>\n",
              "      <th>3</th>\n",
              "      <td>2021年7月11日</td>\n",
              "      <td>34227.7</td>\n",
              "      <td>33510.8</td>\n",
              "      <td>34580.6</td>\n",
              "      <td>33319.8</td>\n",
              "      <td>35.72K</td>\n",
              "      <td>0.0214</td>\n",
              "    </tr>\n",
              "    <tr>\n",
              "      <th>4</th>\n",
              "      <td>2021年7月10日</td>\n",
              "      <td>33510.6</td>\n",
              "      <td>33797.7</td>\n",
              "      <td>34221.0</td>\n",
              "      <td>33056.8</td>\n",
              "      <td>50.94K</td>\n",
              "      <td>-0.0085</td>\n",
              "    </tr>\n",
              "    <tr>\n",
              "      <th>...</th>\n",
              "      <td>...</td>\n",
              "      <td>...</td>\n",
              "      <td>...</td>\n",
              "      <td>...</td>\n",
              "      <td>...</td>\n",
              "      <td>...</td>\n",
              "      <td>...</td>\n",
              "    </tr>\n",
              "    <tr>\n",
              "      <th>1122</th>\n",
              "      <td>2018年6月18日</td>\n",
              "      <td>6719.8</td>\n",
              "      <td>6460.5</td>\n",
              "      <td>6794.5</td>\n",
              "      <td>6410.9</td>\n",
              "      <td>135.70K</td>\n",
              "      <td>0.0402</td>\n",
              "    </tr>\n",
              "    <tr>\n",
              "      <th>1123</th>\n",
              "      <td>2018年6月17日</td>\n",
              "      <td>6460.3</td>\n",
              "      <td>6505.8</td>\n",
              "      <td>6593.0</td>\n",
              "      <td>6452.1</td>\n",
              "      <td>90.67K</td>\n",
              "      <td>-0.0070</td>\n",
              "    </tr>\n",
              "    <tr>\n",
              "      <th>1124</th>\n",
              "      <td>2018年6月16日</td>\n",
              "      <td>6505.8</td>\n",
              "      <td>6410.0</td>\n",
              "      <td>6564.2</td>\n",
              "      <td>6358.0</td>\n",
              "      <td>108.79K</td>\n",
              "      <td>0.0149</td>\n",
              "    </tr>\n",
              "    <tr>\n",
              "      <th>1125</th>\n",
              "      <td>2018年6月15日</td>\n",
              "      <td>6410.3</td>\n",
              "      <td>6647.3</td>\n",
              "      <td>6655.8</td>\n",
              "      <td>6395.7</td>\n",
              "      <td>143.53K</td>\n",
              "      <td>-0.0356</td>\n",
              "    </tr>\n",
              "    <tr>\n",
              "      <th>1126</th>\n",
              "      <td>2018年6月14日</td>\n",
              "      <td>6647.1</td>\n",
              "      <td>6312.3</td>\n",
              "      <td>6711.5</td>\n",
              "      <td>6283.6</td>\n",
              "      <td>201.54K</td>\n",
              "      <td>0.0530</td>\n",
              "    </tr>\n",
              "  </tbody>\n",
              "</table>\n",
              "<p>1127 rows × 7 columns</p>\n",
              "</div>"
            ],
            "text/plain": [
              "            date    close     open     high      low   volune  change\n",
              "0     2021年7月14日  32820.7  32727.8  33051.9  31611.2   69.56K  0.0028\n",
              "1     2021年7月13日  32728.1  33106.1  33307.7  32259.5   60.04K -0.0116\n",
              "2     2021年7月12日  33113.0  34228.3  34598.0  32662.8   63.24K -0.0326\n",
              "3     2021年7月11日  34227.7  33510.8  34580.6  33319.8   35.72K  0.0214\n",
              "4     2021年7月10日  33510.6  33797.7  34221.0  33056.8   50.94K -0.0085\n",
              "...          ...      ...      ...      ...      ...      ...     ...\n",
              "1122  2018年6月18日   6719.8   6460.5   6794.5   6410.9  135.70K  0.0402\n",
              "1123  2018年6月17日   6460.3   6505.8   6593.0   6452.1   90.67K -0.0070\n",
              "1124  2018年6月16日   6505.8   6410.0   6564.2   6358.0  108.79K  0.0149\n",
              "1125  2018年6月15日   6410.3   6647.3   6655.8   6395.7  143.53K -0.0356\n",
              "1126  2018年6月14日   6647.1   6312.3   6711.5   6283.6  201.54K  0.0530\n",
              "\n",
              "[1127 rows x 7 columns]"
            ]
          },
          "metadata": {},
          "execution_count": 4
        }
      ]
    },
    {
      "cell_type": "markdown",
      "metadata": {
        "id": "HT8_2UJegtG5"
      },
      "source": [
        "### Feature Scaling"
      ]
    },
    {
      "cell_type": "code",
      "metadata": {
        "id": "OTrF2kR7gx9x"
      },
      "source": [
        "from sklearn.preprocessing import MinMaxScaler\n",
        "sc = MinMaxScaler(feature_range = (0, 1))\n",
        "training_set_scaled = sc.fit_transform(training_set)"
      ],
      "execution_count": 5,
      "outputs": []
    },
    {
      "cell_type": "markdown",
      "metadata": {
        "id": "JyYgYocqhNUg"
      },
      "source": [
        "### Creating a data structure with 60 timesteps and 1 output"
      ]
    },
    {
      "cell_type": "code",
      "metadata": {
        "id": "iofU21B0i6ST"
      },
      "source": [
        "X_train = []\n",
        "y_train = []\n",
        "for i in range(60, 1127):\n",
        "    X_train.append(training_set_scaled[i-60:i, 0])\n",
        "    y_train.append(training_set_scaled[i, 0])\n",
        "X_train, y_train = np.array(X_train), np.array(y_train)"
      ],
      "execution_count": 6,
      "outputs": []
    },
    {
      "cell_type": "markdown",
      "metadata": {
        "id": "D8yaN7Zvi95l"
      },
      "source": [
        "### Reshaping"
      ]
    },
    {
      "cell_type": "code",
      "metadata": {
        "id": "FOXqJHmNjBkz"
      },
      "source": [
        "X_train = np.reshape(X_train, (X_train.shape[0], X_train.shape[1], 1))"
      ],
      "execution_count": 7,
      "outputs": []
    },
    {
      "cell_type": "markdown",
      "metadata": {
        "id": "ZRRSOJeVjEWV"
      },
      "source": [
        "## Part 2 - Building and Training the RNN"
      ]
    },
    {
      "cell_type": "markdown",
      "metadata": {
        "id": "k4XV88JMjHXG"
      },
      "source": [
        "### Importing the Keras libraries and packages"
      ]
    },
    {
      "cell_type": "code",
      "metadata": {
        "id": "9JRnqsxEjKsD"
      },
      "source": [
        "from keras.models import Sequential\n",
        "from keras.layers import Dense\n",
        "from keras.layers import LSTM\n",
        "from keras.layers import Dropout"
      ],
      "execution_count": 8,
      "outputs": []
    },
    {
      "cell_type": "markdown",
      "metadata": {
        "id": "FEIE-1s9jNzC"
      },
      "source": [
        "### Initialising the RNN"
      ]
    },
    {
      "cell_type": "code",
      "metadata": {
        "id": "1338dJ0UjRKH"
      },
      "source": [
        "regressor = Sequential()"
      ],
      "execution_count": 12,
      "outputs": []
    },
    {
      "cell_type": "markdown",
      "metadata": {
        "id": "62eg1OPGjT8z"
      },
      "source": [
        "### Adding the first LSTM layer and some Dropout regularisation"
      ]
    },
    {
      "cell_type": "code",
      "metadata": {
        "id": "2hIinyXUjbVU"
      },
      "source": [
        "regressor.add(LSTM(units = 50, return_sequences = True, input_shape = (X_train.shape[1], 1)))\n",
        "regressor.add(Dropout(0.2))"
      ],
      "execution_count": 13,
      "outputs": []
    },
    {
      "cell_type": "markdown",
      "metadata": {
        "id": "3XBIYLyOjlMx"
      },
      "source": [
        "### Adding a second LSTM layer and some Dropout regularisation"
      ]
    },
    {
      "cell_type": "code",
      "metadata": {
        "id": "UG7nrVaSjuZ2"
      },
      "source": [
        "regressor.add(LSTM(units = 50, return_sequences = True))\n",
        "regressor.add(Dropout(0.2))"
      ],
      "execution_count": 14,
      "outputs": []
    },
    {
      "cell_type": "markdown",
      "metadata": {
        "id": "Ey3fHVnGj1cu"
      },
      "source": [
        "### Adding a third LSTM layer and some Dropout regularisation"
      ]
    },
    {
      "cell_type": "code",
      "metadata": {
        "id": "PuNi6PgFj7jO"
      },
      "source": [
        "regressor.add(LSTM(units = 50, return_sequences = True))\n",
        "regressor.add(Dropout(0.2))"
      ],
      "execution_count": 15,
      "outputs": []
    },
    {
      "cell_type": "markdown",
      "metadata": {
        "id": "SYTrtfTmj933"
      },
      "source": [
        "### Adding a fourth LSTM layer and some Dropout regularisation"
      ]
    },
    {
      "cell_type": "code",
      "metadata": {
        "id": "Jp4Ty8fRkBYV"
      },
      "source": [
        "regressor.add(LSTM(units = 50))\n",
        "regressor.add(Dropout(0.2))"
      ],
      "execution_count": 16,
      "outputs": []
    },
    {
      "cell_type": "markdown",
      "metadata": {
        "id": "9ABI6rOIkHhk"
      },
      "source": [
        "### Adding the output layer"
      ]
    },
    {
      "cell_type": "code",
      "metadata": {
        "id": "aM6R1z4WkME8"
      },
      "source": [
        "regressor.add(Dense(units = 1))"
      ],
      "execution_count": 17,
      "outputs": []
    },
    {
      "cell_type": "markdown",
      "metadata": {
        "id": "zLx4K7uUkPSh"
      },
      "source": [
        "### Compiling the RNN"
      ]
    },
    {
      "cell_type": "code",
      "metadata": {
        "id": "XTrhVN-tkbko"
      },
      "source": [
        "regressor.compile(optimizer = 'adam', loss = 'mean_squared_error')"
      ],
      "execution_count": 18,
      "outputs": []
    },
    {
      "cell_type": "markdown",
      "metadata": {
        "id": "-mPhwKGkkebi"
      },
      "source": [
        "### Fitting the RNN to the Training set"
      ]
    },
    {
      "cell_type": "code",
      "metadata": {
        "colab": {
          "base_uri": "https://localhost:8080/"
        },
        "id": "I06Nkrz5kkb-",
        "outputId": "97621d52-7dab-4453-9b9f-8edcd26c34de"
      },
      "source": [
        "regressor.fit(X_train, y_train, epochs = 100 , batch_size = 32)"
      ],
      "execution_count": 24,
      "outputs": [
        {
          "output_type": "stream",
          "text": [
            "Epoch 1/100\n",
            "34/34 [==============================] - 10s 122ms/step - loss: 0.0156\n",
            "Epoch 2/100\n",
            "34/34 [==============================] - 4s 123ms/step - loss: 0.0043\n",
            "Epoch 3/100\n",
            "34/34 [==============================] - 4s 126ms/step - loss: 0.0032\n",
            "Epoch 4/100\n",
            "34/34 [==============================] - 4s 120ms/step - loss: 0.0034\n",
            "Epoch 5/100\n",
            "34/34 [==============================] - 4s 122ms/step - loss: 0.0040\n",
            "Epoch 6/100\n",
            "34/34 [==============================] - 4s 121ms/step - loss: 0.0031\n",
            "Epoch 7/100\n",
            "34/34 [==============================] - 4s 121ms/step - loss: 0.0041\n",
            "Epoch 8/100\n",
            "34/34 [==============================] - 4s 122ms/step - loss: 0.0030\n",
            "Epoch 9/100\n",
            "34/34 [==============================] - 4s 121ms/step - loss: 0.0030\n",
            "Epoch 10/100\n",
            "34/34 [==============================] - 4s 123ms/step - loss: 0.0029\n",
            "Epoch 11/100\n",
            "34/34 [==============================] - 4s 119ms/step - loss: 0.0029\n",
            "Epoch 12/100\n",
            "34/34 [==============================] - 4s 122ms/step - loss: 0.0028\n",
            "Epoch 13/100\n",
            "34/34 [==============================] - 4s 122ms/step - loss: 0.0026\n",
            "Epoch 14/100\n",
            "34/34 [==============================] - 4s 120ms/step - loss: 0.0025\n",
            "Epoch 15/100\n",
            "34/34 [==============================] - 4s 123ms/step - loss: 0.0022\n",
            "Epoch 16/100\n",
            "34/34 [==============================] - 4s 121ms/step - loss: 0.0022\n",
            "Epoch 17/100\n",
            "34/34 [==============================] - 4s 120ms/step - loss: 0.0023\n",
            "Epoch 18/100\n",
            "34/34 [==============================] - 4s 121ms/step - loss: 0.0023\n",
            "Epoch 19/100\n",
            "34/34 [==============================] - 4s 120ms/step - loss: 0.0022\n",
            "Epoch 20/100\n",
            "34/34 [==============================] - 4s 121ms/step - loss: 0.0022\n",
            "Epoch 21/100\n",
            "34/34 [==============================] - 4s 120ms/step - loss: 0.0019\n",
            "Epoch 22/100\n",
            "34/34 [==============================] - 4s 122ms/step - loss: 0.0021\n",
            "Epoch 23/100\n",
            "34/34 [==============================] - 4s 122ms/step - loss: 0.0018\n",
            "Epoch 24/100\n",
            "34/34 [==============================] - 4s 121ms/step - loss: 0.0018\n",
            "Epoch 25/100\n",
            "34/34 [==============================] - 4s 122ms/step - loss: 0.0018\n",
            "Epoch 26/100\n",
            "34/34 [==============================] - 4s 124ms/step - loss: 0.0019\n",
            "Epoch 27/100\n",
            "34/34 [==============================] - 4s 123ms/step - loss: 0.0016\n",
            "Epoch 28/100\n",
            "34/34 [==============================] - 4s 124ms/step - loss: 0.0020\n",
            "Epoch 29/100\n",
            "34/34 [==============================] - 4s 122ms/step - loss: 0.0016\n",
            "Epoch 30/100\n",
            "34/34 [==============================] - 4s 122ms/step - loss: 0.0014\n",
            "Epoch 31/100\n",
            "34/34 [==============================] - 4s 120ms/step - loss: 0.0017\n",
            "Epoch 32/100\n",
            "34/34 [==============================] - 4s 121ms/step - loss: 0.0014\n",
            "Epoch 33/100\n",
            "34/34 [==============================] - 4s 122ms/step - loss: 0.0019\n",
            "Epoch 34/100\n",
            "34/34 [==============================] - 4s 123ms/step - loss: 0.0020\n",
            "Epoch 35/100\n",
            "34/34 [==============================] - 4s 122ms/step - loss: 0.0017\n",
            "Epoch 36/100\n",
            "34/34 [==============================] - 4s 120ms/step - loss: 0.0013\n",
            "Epoch 37/100\n",
            "34/34 [==============================] - 4s 120ms/step - loss: 0.0015\n",
            "Epoch 38/100\n",
            "34/34 [==============================] - 4s 121ms/step - loss: 0.0015\n",
            "Epoch 39/100\n",
            "34/34 [==============================] - 4s 122ms/step - loss: 0.0015\n",
            "Epoch 40/100\n",
            "34/34 [==============================] - 4s 122ms/step - loss: 0.0016\n",
            "Epoch 41/100\n",
            "34/34 [==============================] - 4s 118ms/step - loss: 0.0012\n",
            "Epoch 42/100\n",
            "34/34 [==============================] - 4s 124ms/step - loss: 0.0013\n",
            "Epoch 43/100\n",
            "34/34 [==============================] - 4s 121ms/step - loss: 0.0014\n",
            "Epoch 44/100\n",
            "34/34 [==============================] - 4s 120ms/step - loss: 0.0016\n",
            "Epoch 45/100\n",
            "34/34 [==============================] - 4s 123ms/step - loss: 0.0013\n",
            "Epoch 46/100\n",
            "34/34 [==============================] - 4s 121ms/step - loss: 0.0015\n",
            "Epoch 47/100\n",
            "34/34 [==============================] - 4s 121ms/step - loss: 0.0015\n",
            "Epoch 48/100\n",
            "34/34 [==============================] - 4s 123ms/step - loss: 0.0015\n",
            "Epoch 49/100\n",
            "34/34 [==============================] - 4s 121ms/step - loss: 0.0013\n",
            "Epoch 50/100\n",
            "34/34 [==============================] - 4s 121ms/step - loss: 0.0012\n",
            "Epoch 51/100\n",
            "34/34 [==============================] - 4s 122ms/step - loss: 0.0016\n",
            "Epoch 52/100\n",
            "34/34 [==============================] - 4s 120ms/step - loss: 0.0013\n",
            "Epoch 53/100\n",
            "34/34 [==============================] - 4s 123ms/step - loss: 0.0012\n",
            "Epoch 54/100\n",
            "34/34 [==============================] - 4s 120ms/step - loss: 0.0014\n",
            "Epoch 55/100\n",
            "34/34 [==============================] - 4s 125ms/step - loss: 0.0015\n",
            "Epoch 56/100\n",
            "34/34 [==============================] - 4s 121ms/step - loss: 0.0013\n",
            "Epoch 57/100\n",
            "34/34 [==============================] - 4s 123ms/step - loss: 0.0018\n",
            "Epoch 58/100\n",
            "34/34 [==============================] - 4s 122ms/step - loss: 0.0017\n",
            "Epoch 59/100\n",
            "34/34 [==============================] - 4s 123ms/step - loss: 9.6559e-04\n",
            "Epoch 60/100\n",
            "34/34 [==============================] - 4s 122ms/step - loss: 0.0012\n",
            "Epoch 61/100\n",
            "34/34 [==============================] - 4s 121ms/step - loss: 0.0014\n",
            "Epoch 62/100\n",
            "34/34 [==============================] - 4s 121ms/step - loss: 9.5077e-04\n",
            "Epoch 63/100\n",
            "34/34 [==============================] - 4s 121ms/step - loss: 0.0014\n",
            "Epoch 64/100\n",
            "34/34 [==============================] - 4s 120ms/step - loss: 0.0011\n",
            "Epoch 65/100\n",
            "34/34 [==============================] - 4s 122ms/step - loss: 0.0011\n",
            "Epoch 66/100\n",
            "34/34 [==============================] - 4s 123ms/step - loss: 0.0010\n",
            "Epoch 67/100\n",
            "34/34 [==============================] - 4s 121ms/step - loss: 0.0010\n",
            "Epoch 68/100\n",
            "34/34 [==============================] - 4s 120ms/step - loss: 0.0011\n",
            "Epoch 69/100\n",
            "34/34 [==============================] - 4s 122ms/step - loss: 0.0011\n",
            "Epoch 70/100\n",
            "34/34 [==============================] - 4s 121ms/step - loss: 0.0013\n",
            "Epoch 71/100\n",
            "34/34 [==============================] - 4s 121ms/step - loss: 0.0011\n",
            "Epoch 72/100\n",
            "34/34 [==============================] - 4s 121ms/step - loss: 8.7983e-04\n",
            "Epoch 73/100\n",
            "34/34 [==============================] - 4s 123ms/step - loss: 0.0011\n",
            "Epoch 74/100\n",
            "34/34 [==============================] - 4s 122ms/step - loss: 0.0011\n",
            "Epoch 75/100\n",
            "34/34 [==============================] - 4s 121ms/step - loss: 0.0013\n",
            "Epoch 76/100\n",
            "34/34 [==============================] - 4s 121ms/step - loss: 0.0013\n",
            "Epoch 77/100\n",
            "34/34 [==============================] - 4s 121ms/step - loss: 0.0014\n",
            "Epoch 78/100\n",
            "34/34 [==============================] - 4s 125ms/step - loss: 0.0015\n",
            "Epoch 79/100\n",
            "34/34 [==============================] - 4s 121ms/step - loss: 0.0010\n",
            "Epoch 80/100\n",
            "34/34 [==============================] - 4s 121ms/step - loss: 0.0012\n",
            "Epoch 81/100\n",
            "34/34 [==============================] - 4s 123ms/step - loss: 0.0011\n",
            "Epoch 82/100\n",
            "34/34 [==============================] - 4s 122ms/step - loss: 9.1417e-04\n",
            "Epoch 83/100\n",
            "34/34 [==============================] - 4s 123ms/step - loss: 0.0014\n",
            "Epoch 84/100\n",
            "34/34 [==============================] - 4s 121ms/step - loss: 0.0010\n",
            "Epoch 85/100\n",
            "34/34 [==============================] - 4s 123ms/step - loss: 9.2081e-04\n",
            "Epoch 86/100\n",
            "34/34 [==============================] - 4s 123ms/step - loss: 9.2446e-04\n",
            "Epoch 87/100\n",
            "34/34 [==============================] - 4s 124ms/step - loss: 8.5753e-04\n",
            "Epoch 88/100\n",
            "34/34 [==============================] - 4s 120ms/step - loss: 8.1186e-04\n",
            "Epoch 89/100\n",
            "34/34 [==============================] - 4s 123ms/step - loss: 9.7919e-04\n",
            "Epoch 90/100\n",
            "34/34 [==============================] - 4s 122ms/step - loss: 9.2442e-04\n",
            "Epoch 91/100\n",
            "34/34 [==============================] - 4s 123ms/step - loss: 8.4530e-04\n",
            "Epoch 92/100\n",
            "34/34 [==============================] - 4s 122ms/step - loss: 9.8749e-04\n",
            "Epoch 93/100\n",
            "34/34 [==============================] - 4s 122ms/step - loss: 7.7598e-04\n",
            "Epoch 94/100\n",
            "34/34 [==============================] - 4s 121ms/step - loss: 8.3945e-04\n",
            "Epoch 95/100\n",
            "34/34 [==============================] - 4s 122ms/step - loss: 0.0010\n",
            "Epoch 96/100\n",
            "34/34 [==============================] - 4s 122ms/step - loss: 9.6099e-04\n",
            "Epoch 97/100\n",
            "34/34 [==============================] - 4s 123ms/step - loss: 0.0011\n",
            "Epoch 98/100\n",
            "34/34 [==============================] - 4s 123ms/step - loss: 9.7668e-04\n",
            "Epoch 99/100\n",
            "34/34 [==============================] - 4s 124ms/step - loss: 7.8790e-04\n",
            "Epoch 100/100\n",
            "34/34 [==============================] - 4s 123ms/step - loss: 0.0010\n"
          ],
          "name": "stdout"
        },
        {
          "output_type": "execute_result",
          "data": {
            "text/plain": [
              "<keras.callbacks.History at 0x7f596e0d46d0>"
            ]
          },
          "metadata": {},
          "execution_count": 24
        }
      ]
    },
    {
      "cell_type": "code",
      "metadata": {
        "colab": {
          "base_uri": "https://localhost:8080/"
        },
        "id": "iNlntfkEZSLY",
        "outputId": "274dd869-9a28-458e-ddde-56152c771104"
      },
      "source": [
        "regressor.save('drive.google.com/drive/folders/1hq5Eqow1HslGmWhCReYt3GWq9vwxs48u?usp=sharing')"
      ],
      "execution_count": 25,
      "outputs": [
        {
          "output_type": "stream",
          "text": [
            "WARNING:absl:Found untraced functions such as lstm_cell_layer_call_and_return_conditional_losses, lstm_cell_layer_call_fn, lstm_cell_1_layer_call_and_return_conditional_losses, lstm_cell_1_layer_call_fn, lstm_cell_2_layer_call_and_return_conditional_losses while saving (showing 5 of 20). These functions will not be directly callable after loading.\n"
          ],
          "name": "stderr"
        },
        {
          "output_type": "stream",
          "text": [
            "INFO:tensorflow:Assets written to: drive.google.com/drive/folders/1hq5Eqow1HslGmWhCReYt3GWq9vwxs48u?usp=sharing/assets\n"
          ],
          "name": "stdout"
        },
        {
          "output_type": "stream",
          "text": [
            "INFO:tensorflow:Assets written to: drive.google.com/drive/folders/1hq5Eqow1HslGmWhCReYt3GWq9vwxs48u?usp=sharing/assets\n"
          ],
          "name": "stderr"
        }
      ]
    },
    {
      "cell_type": "code",
      "metadata": {
        "colab": {
          "base_uri": "https://localhost:8080/"
        },
        "id": "jMaotCGZdu46",
        "outputId": "f6e1060e-9496-4ab3-e0e7-767f76247b16"
      },
      "source": [
        "regressor.summary()"
      ],
      "execution_count": 26,
      "outputs": [
        {
          "output_type": "stream",
          "text": [
            "Model: \"sequential\"\n",
            "_________________________________________________________________\n",
            "Layer (type)                 Output Shape              Param #   \n",
            "=================================================================\n",
            "lstm (LSTM)                  (None, 60, 50)            10400     \n",
            "_________________________________________________________________\n",
            "dropout (Dropout)            (None, 60, 50)            0         \n",
            "_________________________________________________________________\n",
            "lstm_1 (LSTM)                (None, 60, 50)            20200     \n",
            "_________________________________________________________________\n",
            "dropout_1 (Dropout)          (None, 60, 50)            0         \n",
            "_________________________________________________________________\n",
            "lstm_2 (LSTM)                (None, 60, 50)            20200     \n",
            "_________________________________________________________________\n",
            "dropout_2 (Dropout)          (None, 60, 50)            0         \n",
            "_________________________________________________________________\n",
            "lstm_3 (LSTM)                (None, 50)                20200     \n",
            "_________________________________________________________________\n",
            "dropout_3 (Dropout)          (None, 50)                0         \n",
            "_________________________________________________________________\n",
            "dense (Dense)                (None, 1)                 51        \n",
            "=================================================================\n",
            "Total params: 71,051\n",
            "Trainable params: 71,051\n",
            "Non-trainable params: 0\n",
            "_________________________________________________________________\n"
          ],
          "name": "stdout"
        }
      ]
    },
    {
      "cell_type": "markdown",
      "metadata": {
        "id": "4hRau_lIkrE8"
      },
      "source": [
        "## Part 3 - Making the predictions and visualising the results"
      ]
    },
    {
      "cell_type": "markdown",
      "metadata": {
        "id": "SgJO6qEDksxD"
      },
      "source": [
        "### Getting the real  price of 2018-2021\n",
        "\n",
        "\n"
      ]
    },
    {
      "cell_type": "code",
      "metadata": {
        "colab": {
          "base_uri": "https://localhost:8080/"
        },
        "id": "FmBT2zqukxTz",
        "outputId": "996083f0-f69a-4f2a-fa76-f833094c1605"
      },
      "source": [
        "dataset_test = pd.read_excel('Bitcoin_price_test.xlsx')\n",
        "real__price= dataset_test.iloc[:, 1:2].values\n",
        "real__price"
      ],
      "execution_count": 28,
      "outputs": [
        {
          "output_type": "execute_result",
          "data": {
            "text/plain": [
              "array([[6598.4],\n",
              "       [6513.5],\n",
              "       [6619.5],\n",
              "       [6366.8],\n",
              "       [6398.9],\n",
              "       [6213.3],\n",
              "       [5883.5],\n",
              "       [6154.9],\n",
              "       [6082.1],\n",
              "       [6256.6],\n",
              "       [6154.6],\n",
              "       [6167.3],\n",
              "       [6055.7],\n",
              "       [6728. ],\n",
              "       [6765.4],\n",
              "       [6752.4],\n",
              "       [6719.8],\n",
              "       [6460.3],\n",
              "       [6505.8],\n",
              "       [6410.3],\n",
              "       [6647.1]])"
            ]
          },
          "metadata": {},
          "execution_count": 28
        }
      ]
    },
    {
      "cell_type": "markdown",
      "metadata": {
        "id": "GrvrLblxkz42"
      },
      "source": [
        "### Getting the predicted  price of 2018\n",
        "\n",
        "\n",
        "\n"
      ]
    },
    {
      "cell_type": "code",
      "metadata": {
        "id": "emikTvUpk3Ck"
      },
      "source": [
        "dataset_total = pd.concat((dataset_train['close'], dataset_test['close']), axis = 0)\n",
        "inputs = dataset_total[len(dataset_total) - len(dataset_test) - 60:].values\n",
        "\n",
        "inputs = inputs.reshape(-1,1)\n",
        "inputs = sc.transform(inputs)\n",
        "X_test = []\n",
        "for i in range(60, 82):\n",
        "    X_test.append(inputs[i-60:i, 0])\n",
        "X_test = np.array(X_test)\n",
        "X_test = np.reshape(X_test, (X_test.shape[0], X_test.shape[1], 1))\n",
        "predicted__price = regressor.predict(X_test)\n",
        "predicted__price = sc.inverse_transform(predicted__price)"
      ],
      "execution_count": 33,
      "outputs": []
    },
    {
      "cell_type": "markdown",
      "metadata": {
        "id": "iFTNs3YHk6FQ"
      },
      "source": [
        "### Visualising the results"
      ]
    },
    {
      "cell_type": "code",
      "metadata": {
        "colab": {
          "base_uri": "https://localhost:8080/",
          "height": 295
        },
        "id": "8OUI8U49k9tH",
        "outputId": "693dbb95-d626-4d36-d94b-dca8f9b7488e"
      },
      "source": [
        "plt.plot(real__price, color = 'red', label = 'test Bitcoin Price')\n",
        "plt.plot(predicted__price, color = 'blue', label = 'Predicted Bitcoin Price')\n",
        "plt.title('Bitcoin Price Prediction')\n",
        "plt.xlabel('Time')\n",
        "plt.ylabel('Bitcoin Price')\n",
        "plt.legend()\n",
        "plt.show()"
      ],
      "execution_count": 30,
      "outputs": [
        {
          "output_type": "display_data",
          "data": {
            "image/png": "[encoded data removed]",
            "text/plain": [
              "<Figure size 432x288 with 1 Axes>"
            ]
          },
          "metadata": {
            "needs_background": "light"
          }
        }
      ]
    }
  ]
}